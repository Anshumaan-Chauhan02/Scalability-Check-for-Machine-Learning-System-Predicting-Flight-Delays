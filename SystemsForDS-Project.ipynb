{
 "cells": [
  {
   "cell_type": "code",
   "execution_count": 1,
   "id": "f0770a54",
   "metadata": {},
   "outputs": [],
   "source": [
    "import pyspark\n",
    "import pandas as pd\n",
    "import numpy as np\n",
    "\n",
    "from pyspark.sql import SparkSession"
   ]
  },
  {
   "cell_type": "code",
   "execution_count": 2,
   "id": "d39fb5e2",
   "metadata": {},
   "outputs": [],
   "source": [
    "import findspark\n",
    "findspark.init()"
   ]
  },
  {
   "cell_type": "code",
   "execution_count": 3,
   "id": "d80aced1",
   "metadata": {},
   "outputs": [],
   "source": [
    "spark = SparkSession.builder \\\n",
    ".master(\"local\") \\\n",
    ".config(\"spark.driver.extraClassPath\",\"C:/Users/AnshumaanChauhan/Documents/spark-3.3.0-bin-hadoop3/spark-3.3.0-bin-hadoop3/jars/mysql-connector-java-5.1.48.jar\") \\\n",
    ".config(\"spark.driver.memory\",\"15g\") \\\n",
    ".appName(\"Scalability Check of Systems for ML applications\") \\\n",
    ".getOrCreate()"
   ]
  },
  {
   "cell_type": "code",
   "execution_count": 4,
   "id": "82c94af9",
   "metadata": {},
   "outputs": [],
   "source": [
    "from pyspark.sql.functions import col, count, isnan, when"
   ]
  },
  {
   "cell_type": "code",
   "execution_count": 83,
   "id": "62aa9f40",
   "metadata": {},
   "outputs": [],
   "source": [
    "dataset = spark.read.csv('C:\\\\Users\\AnshumaanChauhan\\\\Documents\\\\Systems for DS Umass\\\\Project\\\\archive (5)\\\\DelayedFlights.csv',\n",
    "                         header=True)"
   ]
  },
  {
   "cell_type": "code",
   "execution_count": 67,
   "id": "8f38b6d7",
   "metadata": {},
   "outputs": [
    {
     "name": "stdout",
     "output_type": "stream",
     "text": [
      "-RECORD 0-------------------\n",
      " _c0               | 0      \n",
      " Year              | 0      \n",
      " Month             | 0      \n",
      " DayofMonth        | 0      \n",
      " DayOfWeek         | 0      \n",
      " DepTime           | 0      \n",
      " CRSDepTime        | 0      \n",
      " ArrTime           | 7110   \n",
      " CRSArrTime        | 0      \n",
      " UniqueCarrier     | 0      \n",
      " FlightNum         | 0      \n",
      " TailNum           | 5      \n",
      " ActualElapsedTime | 8387   \n",
      " CRSElapsedTime    | 198    \n",
      " AirTime           | 8387   \n",
      " ArrDelay          | 8387   \n",
      " DepDelay          | 0      \n",
      " Origin            | 0      \n",
      " Dest              | 0      \n",
      " Distance          | 0      \n",
      " TaxiIn            | 7110   \n",
      " TaxiOut           | 455    \n",
      " Cancelled         | 0      \n",
      " CancellationCode  | 0      \n",
      " Diverted          | 0      \n",
      " CarrierDelay      | 689270 \n",
      " WeatherDelay      | 689270 \n",
      " NASDelay          | 689270 \n",
      " SecurityDelay     | 689270 \n",
      " LateAircraftDelay | 689270 \n",
      "\n"
     ]
    }
   ],
   "source": [
    "#Checking which column has null or nan values how many times \n",
    "dataset.select([count(when(isnan(c) | col(c).isNull(), c)).alias(c) for c in dataset.columns]).show(vertical=True)"
   ]
  },
  {
   "cell_type": "code",
   "execution_count": 68,
   "id": "11b96415",
   "metadata": {},
   "outputs": [
    {
     "data": {
      "text/plain": [
       "7754"
      ]
     },
     "execution_count": 68,
     "metadata": {},
     "output_type": "execute_result"
    }
   ],
   "source": [
    "dataset.select(col(\"ArrDelay\")).where((col(\"ArrDelay\").isNull() | isnan(col(\"ArrDelay\"))) & (col('Diverted')==1)).count()"
   ]
  },
  {
   "cell_type": "markdown",
   "id": "f8b094c0",
   "metadata": {},
   "source": [
    "For all the flights that are diverted their ActualElaspedTime, ArrDelay and AirTime is null, because they did not land at correct destination"
   ]
  },
  {
   "cell_type": "code",
   "execution_count": 69,
   "id": "e8ddd642",
   "metadata": {},
   "outputs": [
    {
     "data": {
      "text/plain": [
       "7110"
      ]
     },
     "execution_count": 69,
     "metadata": {},
     "output_type": "execute_result"
    }
   ],
   "source": [
    "dataset.select(*(col(c) for c in dataset.columns)).where((col(\"TaxiIn\").isNull() | isnan(col(\"TaxiIn\")))).count()"
   ]
  },
  {
   "cell_type": "code",
   "execution_count": 70,
   "id": "6a752ac5",
   "metadata": {},
   "outputs": [
    {
     "data": {
      "text/plain": [
       "633"
      ]
     },
     "execution_count": 70,
     "metadata": {},
     "output_type": "execute_result"
    }
   ],
   "source": [
    "dataset.select(*(col(c) for c in dataset.columns)).where((col(\"TaxiIn\").isNull() | isnan(col(\"TaxiIn\"))) & (col(\"Diverted\")==0)).count()"
   ]
  },
  {
   "cell_type": "code",
   "execution_count": 71,
   "id": "81fd17eb",
   "metadata": {},
   "outputs": [
    {
     "data": {
      "text/plain": [
       "0"
      ]
     },
     "execution_count": 71,
     "metadata": {},
     "output_type": "execute_result"
    }
   ],
   "source": [
    "dataset.select(*(col(c) for c in dataset.columns)).where((col(\"TaxiIn\").isNull() | isnan(col(\"TaxiIn\"))) & (col(\"Diverted\")==0) & (col(\"CancellationCode\")=='N')).count()"
   ]
  },
  {
   "cell_type": "markdown",
   "id": "876fd3b8",
   "metadata": {},
   "source": [
    "As we can infer above the TaxiIn are ArrTime are Null a few times. But it is the case when the flight is either cancelled or diverted. So it is fine if we not exclude the null values"
   ]
  },
  {
   "cell_type": "code",
   "execution_count": 72,
   "id": "ffa6bcc7",
   "metadata": {},
   "outputs": [
    {
     "name": "stdout",
     "output_type": "stream",
     "text": [
      "-RECORD 0--------------------\n",
      " _c0               | 5484245 \n",
      " Year              | 2008    \n",
      " Month             | 10      \n",
      " DayofMonth        | 25      \n",
      " DayOfWeek         | 6       \n",
      " DepTime           | 1323.0  \n",
      " CRSDepTime        | 1255    \n",
      " ArrTime           | null    \n",
      " CRSArrTime        | 1442    \n",
      " UniqueCarrier     | XE      \n",
      " FlightNum         | 2347    \n",
      " TailNum           | N26549  \n",
      " ActualElapsedTime | null    \n",
      " CRSElapsedTime    | 107.0   \n",
      " AirTime           | null    \n",
      " ArrDelay          | null    \n",
      " DepDelay          | 28.0    \n",
      " Origin            | CLT     \n",
      " Dest              | EWR     \n",
      " Distance          | 529     \n",
      " TaxiIn            | null    \n",
      " TaxiOut           | null    \n",
      " Cancelled         | 1       \n",
      " CancellationCode  | B       \n",
      " Diverted          | 0       \n",
      " CarrierDelay      | null    \n",
      " WeatherDelay      | null    \n",
      " NASDelay          | null    \n",
      " SecurityDelay     | null    \n",
      " LateAircraftDelay | null    \n",
      "-RECORD 1--------------------\n",
      " _c0               | 5486876 \n",
      " Year              | 2008    \n",
      " Month             | 10      \n",
      " DayofMonth        | 22      \n",
      " DayOfWeek         | 3       \n",
      " DepTime           | 1825.0  \n",
      " CRSDepTime        | 1815    \n",
      " ArrTime           | null    \n",
      " CRSArrTime        | 1927    \n",
      " UniqueCarrier     | XE      \n",
      " FlightNum         | 2819    \n",
      " TailNum           | N12946  \n",
      " ActualElapsedTime | null    \n",
      " CRSElapsedTime    | 72.0    \n",
      " AirTime           | null    \n",
      " ArrDelay          | null    \n",
      " DepDelay          | 10.0    \n",
      " Origin            | JAN     \n",
      " Dest              | IAH     \n",
      " Distance          | 351     \n",
      " TaxiIn            | null    \n",
      " TaxiOut           | null    \n",
      " Cancelled         | 1       \n",
      " CancellationCode  | C       \n",
      " Diverted          | 0       \n",
      " CarrierDelay      | null    \n",
      " WeatherDelay      | null    \n",
      " NASDelay          | null    \n",
      " SecurityDelay     | null    \n",
      " LateAircraftDelay | null    \n",
      "-RECORD 2--------------------\n",
      " _c0               | 5486924 \n",
      " Year              | 2008    \n",
      " Month             | 10      \n",
      " DayofMonth        | 22      \n",
      " DayOfWeek         | 3       \n",
      " DepTime           | 1733.0  \n",
      " CRSDepTime        | 1715    \n",
      " ArrTime           | null    \n",
      " CRSArrTime        | 1818    \n",
      " UniqueCarrier     | XE      \n",
      " FlightNum         | 2890    \n",
      " TailNum           | N16944  \n",
      " ActualElapsedTime | null    \n",
      " CRSElapsedTime    | 63.0    \n",
      " AirTime           | null    \n",
      " ArrDelay          | null    \n",
      " DepDelay          | 18.0    \n",
      " Origin            | IAH     \n",
      " Dest              | BTR     \n",
      " Distance          | 253     \n",
      " TaxiIn            | null    \n",
      " TaxiOut           | null    \n",
      " Cancelled         | 1       \n",
      " CancellationCode  | B       \n",
      " Diverted          | 0       \n",
      " CarrierDelay      | null    \n",
      " WeatherDelay      | null    \n",
      " NASDelay          | null    \n",
      " SecurityDelay     | null    \n",
      " LateAircraftDelay | null    \n",
      "-RECORD 3--------------------\n",
      " _c0               | 5491819 \n",
      " Year              | 2008    \n",
      " Month             | 10      \n",
      " DayofMonth        | 15      \n",
      " DayOfWeek         | 3       \n",
      " DepTime           | 1943.0  \n",
      " CRSDepTime        | 1745    \n",
      " ArrTime           | null    \n",
      " CRSArrTime        | 1857    \n",
      " UniqueCarrier     | XE      \n",
      " FlightNum         | 2117    \n",
      " TailNum           | N26545  \n",
      " ActualElapsedTime | null    \n",
      " CRSElapsedTime    | 72.0    \n",
      " AirTime           | null    \n",
      " ArrDelay          | null    \n",
      " DepDelay          | 118.0   \n",
      " Origin            | IAH     \n",
      " Dest              | HRL     \n",
      " Distance          | 295     \n",
      " TaxiIn            | null    \n",
      " TaxiOut           | null    \n",
      " Cancelled         | 1       \n",
      " CancellationCode  | B       \n",
      " Diverted          | 0       \n",
      " CarrierDelay      | null    \n",
      " WeatherDelay      | null    \n",
      " NASDelay          | null    \n",
      " SecurityDelay     | null    \n",
      " LateAircraftDelay | null    \n",
      "-RECORD 4--------------------\n",
      " _c0               | 5492348 \n",
      " Year              | 2008    \n",
      " Month             | 10      \n",
      " DayofMonth        | 15      \n",
      " DayOfWeek         | 3       \n",
      " DepTime           | 1610.0  \n",
      " CRSDepTime        | 1600    \n",
      " ArrTime           | null    \n",
      " CRSArrTime        | 1738    \n",
      " UniqueCarrier     | XE      \n",
      " FlightNum         | 2920    \n",
      " TailNum           | N14558  \n",
      " ActualElapsedTime | null    \n",
      " CRSElapsedTime    | 98.0    \n",
      " AirTime           | null    \n",
      " ArrDelay          | null    \n",
      " DepDelay          | 10.0    \n",
      " Origin            | IAH     \n",
      " Dest              | MEM     \n",
      " Distance          | 469     \n",
      " TaxiIn            | null    \n",
      " TaxiOut           | null    \n",
      " Cancelled         | 1       \n",
      " CancellationCode  | B       \n",
      " Diverted          | 0       \n",
      " CarrierDelay      | null    \n",
      " WeatherDelay      | null    \n",
      " NASDelay          | null    \n",
      " SecurityDelay     | null    \n",
      " LateAircraftDelay | null    \n",
      "-RECORD 5--------------------\n",
      " _c0               | 5506188 \n",
      " Year              | 2008    \n",
      " Month             | 10      \n",
      " DayofMonth        | 5       \n",
      " DayOfWeek         | 7       \n",
      " DepTime           | 1711.0  \n",
      " CRSDepTime        | 1653    \n",
      " ArrTime           | null    \n",
      " CRSArrTime        | 1821    \n",
      " UniqueCarrier     | YV      \n",
      " FlightNum         | 7148    \n",
      " TailNum           | N570ML  \n",
      " ActualElapsedTime | null    \n",
      " CRSElapsedTime    | 88.0    \n",
      " AirTime           | null    \n",
      " ArrDelay          | null    \n",
      " DepDelay          | 18.0    \n",
      " Origin            | IAD     \n",
      " Dest              | TYS     \n",
      " Distance          | 419     \n",
      " TaxiIn            | null    \n",
      " TaxiOut           | null    \n",
      " Cancelled         | 1       \n",
      " CancellationCode  | A       \n",
      " Diverted          | 0       \n",
      " CarrierDelay      | null    \n",
      " WeatherDelay      | null    \n",
      " NASDelay          | null    \n",
      " SecurityDelay     | null    \n",
      " LateAircraftDelay | null    \n",
      "-RECORD 6--------------------\n",
      " _c0               | 5521831 \n",
      " Year              | 2008    \n",
      " Month             | 10      \n",
      " DayofMonth        | 28      \n",
      " DayOfWeek         | 2       \n",
      " DepTime           | 1735.0  \n",
      " CRSDepTime        | 1410    \n",
      " ArrTime           | null    \n",
      " CRSArrTime        | 1529    \n",
      " UniqueCarrier     | YV      \n",
      " FlightNum         | 7262    \n",
      " TailNum           | N571ML  \n",
      " ActualElapsedTime | null    \n",
      " CRSElapsedTime    | 79.0    \n",
      " AirTime           | null    \n",
      " ArrDelay          | null    \n",
      " DepDelay          | 205.0   \n",
      " Origin            | SYR     \n",
      " Dest              | IAD     \n",
      " Distance          | 296     \n",
      " TaxiIn            | null    \n",
      " TaxiOut           | null    \n",
      " Cancelled         | 1       \n",
      " CancellationCode  | A       \n",
      " Diverted          | 0       \n",
      " CarrierDelay      | null    \n",
      " WeatherDelay      | null    \n",
      " NASDelay          | null    \n",
      " SecurityDelay     | null    \n",
      " LateAircraftDelay | null    \n",
      "-RECORD 7--------------------\n",
      " _c0               | 5535250 \n",
      " Year              | 2008    \n",
      " Month             | 10      \n",
      " DayofMonth        | 25      \n",
      " DayOfWeek         | 6       \n",
      " DepTime           | 1445.0  \n",
      " CRSDepTime        | 1355    \n",
      " ArrTime           | null    \n",
      " CRSArrTime        | 1535    \n",
      " UniqueCarrier     | OH      \n",
      " FlightNum         | 6588    \n",
      " TailNum           | N528CA  \n",
      " ActualElapsedTime | null    \n",
      " CRSElapsedTime    | 100.0   \n",
      " AirTime           | null    \n",
      " ArrDelay          | null    \n",
      " DepDelay          | 50.0    \n",
      " Origin            | RDU     \n",
      " Dest              | JFK     \n",
      " Distance          | 426     \n",
      " TaxiIn            | null    \n",
      " TaxiOut           | null    \n",
      " Cancelled         | 1       \n",
      " CancellationCode  | B       \n",
      " Diverted          | 0       \n",
      " CarrierDelay      | null    \n",
      " WeatherDelay      | null    \n",
      " NASDelay          | null    \n",
      " SecurityDelay     | null    \n",
      " LateAircraftDelay | null    \n",
      "-RECORD 8--------------------\n",
      " _c0               | 5556577 \n",
      " Year              | 2008    \n",
      " Month             | 10      \n",
      " DayofMonth        | 27      \n",
      " DayOfWeek         | 1       \n",
      " DepTime           | 718.0   \n",
      " CRSDepTime        | 618     \n",
      " ArrTime           | null    \n",
      " CRSArrTime        | 708     \n",
      " UniqueCarrier     | OO      \n",
      " FlightNum         | 5581    \n",
      " TailNum           | N284YV  \n",
      " ActualElapsedTime | null    \n",
      " CRSElapsedTime    | 50.0    \n",
      " AirTime           | null    \n",
      " ArrDelay          | null    \n",
      " DepDelay          | 60.0    \n",
      " Origin            | SAN     \n",
      " Dest              | LAX     \n",
      " Distance          | 109     \n",
      " TaxiIn            | null    \n",
      " TaxiOut           | null    \n",
      " Cancelled         | 1       \n",
      " CancellationCode  | C       \n",
      " Diverted          | 0       \n",
      " CarrierDelay      | null    \n",
      " WeatherDelay      | null    \n",
      " NASDelay          | null    \n",
      " SecurityDelay     | null    \n",
      " LateAircraftDelay | null    \n",
      "-RECORD 9--------------------\n",
      " _c0               | 5566795 \n",
      " Year              | 2008    \n",
      " Month             | 10      \n",
      " DayofMonth        | 14      \n",
      " DayOfWeek         | 2       \n",
      " DepTime           | 1050.0  \n",
      " CRSDepTime        | 1038    \n",
      " ArrTime           | null    \n",
      " CRSArrTime        | 1230    \n",
      " UniqueCarrier     | OO      \n",
      " FlightNum         | 6017    \n",
      " TailNum           | N698BR  \n",
      " ActualElapsedTime | null    \n",
      " CRSElapsedTime    | 112.0   \n",
      " AirTime           | null    \n",
      " ArrDelay          | null    \n",
      " DepDelay          | 12.0    \n",
      " Origin            | ICT     \n",
      " Dest              | ORD     \n",
      " Distance          | 588     \n",
      " TaxiIn            | null    \n",
      " TaxiOut           | null    \n",
      " Cancelled         | 1       \n",
      " CancellationCode  | A       \n",
      " Diverted          | 0       \n",
      " CarrierDelay      | null    \n",
      " WeatherDelay      | null    \n",
      " NASDelay          | null    \n",
      " SecurityDelay     | null    \n",
      " LateAircraftDelay | null    \n",
      "-RECORD 10-------------------\n",
      " _c0               | 5570104 \n",
      " Year              | 2008    \n",
      " Month             | 10      \n",
      " DayofMonth        | 11      \n",
      " DayOfWeek         | 6       \n",
      " DepTime           | 1316.0  \n",
      " CRSDepTime        | 1309    \n",
      " ArrTime           | null    \n",
      " CRSArrTime        | 1407    \n",
      " UniqueCarrier     | OO      \n",
      " FlightNum         | 6241    \n",
      " TailNum           | N915SW  \n",
      " ActualElapsedTime | null    \n",
      " CRSElapsedTime    | 58.0    \n",
      " AirTime           | null    \n",
      " ArrDelay          | null    \n",
      " DepDelay          | 7.0     \n",
      " Origin            | MTJ     \n",
      " Dest              | DEN     \n",
      " Distance          | 197     \n",
      " TaxiIn            | null    \n",
      " TaxiOut           | null    \n",
      " Cancelled         | 1       \n",
      " CancellationCode  | A       \n",
      " Diverted          | 0       \n",
      " CarrierDelay      | null    \n",
      " WeatherDelay      | null    \n",
      " NASDelay          | null    \n",
      " SecurityDelay     | null    \n",
      " LateAircraftDelay | null    \n",
      "-RECORD 11-------------------\n",
      " _c0               | 5593874 \n",
      " Year              | 2008    \n",
      " Month             | 10      \n",
      " DayofMonth        | 6       \n",
      " DayOfWeek         | 1       \n",
      " DepTime           | 813.0   \n",
      " CRSDepTime        | 759     \n",
      " ArrTime           | null    \n",
      " CRSArrTime        | 1040    \n",
      " UniqueCarrier     | UA      \n",
      " FlightNum         | 403     \n",
      " TailNum           | N565UA  \n",
      " ActualElapsedTime | null    \n",
      " CRSElapsedTime    | 281.0   \n",
      " AirTime           | null    \n",
      " ArrDelay          | null    \n",
      " DepDelay          | 14.0    \n",
      " Origin            | LGA     \n",
      " Dest              | DEN     \n",
      " Distance          | 1619    \n",
      " TaxiIn            | null    \n",
      " TaxiOut           | null    \n",
      " Cancelled         | 1       \n",
      " CancellationCode  | A       \n",
      " Diverted          | 0       \n",
      " CarrierDelay      | null    \n",
      " WeatherDelay      | null    \n",
      " NASDelay          | null    \n",
      " SecurityDelay     | null    \n",
      " LateAircraftDelay | null    \n",
      "-RECORD 12-------------------\n",
      " _c0               | 5595653 \n",
      " Year              | 2008    \n",
      " Month             | 10      \n",
      " DayofMonth        | 30      \n",
      " DayOfWeek         | 4       \n",
      " DepTime           | 1321.0  \n",
      " CRSDepTime        | 1246    \n",
      " ArrTime           | null    \n",
      " CRSArrTime        | 1358    \n",
      " UniqueCarrier     | UA      \n",
      " FlightNum         | 459     \n",
      " TailNum           | N929UA  \n",
      " ActualElapsedTime | null    \n",
      " CRSElapsedTime    | 72.0    \n",
      " AirTime           | null    \n",
      " ArrDelay          | null    \n",
      " DepDelay          | 35.0    \n",
      " Origin            | IAD     \n",
      " Dest              | RDU     \n",
      " Distance          | 224     \n",
      " TaxiIn            | null    \n",
      " TaxiOut           | null    \n",
      " Cancelled         | 1       \n",
      " CancellationCode  | A       \n",
      " Diverted          | 0       \n",
      " CarrierDelay      | null    \n",
      " WeatherDelay      | null    \n",
      " NASDelay          | null    \n",
      " SecurityDelay     | null    \n",
      " LateAircraftDelay | null    \n",
      "-RECORD 13-------------------\n",
      " _c0               | 5609016 \n",
      " Year              | 2008    \n",
      " Month             | 10      \n",
      " DayofMonth        | 22      \n",
      " DayOfWeek         | 3       \n",
      " DepTime           | 1719.0  \n",
      " CRSDepTime        | 1650    \n",
      " ArrTime           | null    \n",
      " CRSArrTime        | 2101    \n",
      " UniqueCarrier     | UA      \n",
      " FlightNum         | 982     \n",
      " TailNum           | N849UA  \n",
      " ActualElapsedTime | null    \n",
      " CRSElapsedTime    | 191.0   \n",
      " AirTime           | null    \n",
      " ArrDelay          | null    \n",
      " DepDelay          | 29.0    \n",
      " Origin            | IAH     \n",
      " Dest              | IAD     \n",
      " Distance          | 1190    \n",
      " TaxiIn            | null    \n",
      " TaxiOut           | null    \n",
      " Cancelled         | 1       \n",
      " CancellationCode  | B       \n",
      " Diverted          | 0       \n",
      " CarrierDelay      | null    \n",
      " WeatherDelay      | null    \n",
      " NASDelay          | null    \n",
      " SecurityDelay     | null    \n",
      " LateAircraftDelay | null    \n",
      "-RECORD 14-------------------\n",
      " _c0               | 5615781 \n",
      " Year              | 2008    \n",
      " Month             | 10      \n",
      " DayofMonth        | 9       \n",
      " DayOfWeek         | 4       \n",
      " DepTime           | 1600.0  \n",
      " CRSDepTime        | 1520    \n",
      " ArrTime           | null    \n",
      " CRSArrTime        | 1715    \n",
      " UniqueCarrier     | UA      \n",
      " FlightNum         | 1537    \n",
      " TailNum           | N460UA  \n",
      " ActualElapsedTime | null    \n",
      " CRSElapsedTime    | 175.0   \n",
      " AirTime           | null    \n",
      " ArrDelay          | null    \n",
      " DepDelay          | 40.0    \n",
      " Origin            | MCO     \n",
      " Dest              | ORD     \n",
      " Distance          | 1005    \n",
      " TaxiIn            | null    \n",
      " TaxiOut           | null    \n",
      " Cancelled         | 1       \n",
      " CancellationCode  | A       \n",
      " Diverted          | 0       \n",
      " CarrierDelay      | null    \n",
      " WeatherDelay      | null    \n",
      " NASDelay          | null    \n",
      " SecurityDelay     | null    \n",
      " LateAircraftDelay | null    \n",
      "-RECORD 15-------------------\n",
      " _c0               | 5630408 \n",
      " Year              | 2008    \n",
      " Month             | 10      \n",
      " DayofMonth        | 11      \n",
      " DayOfWeek         | 6       \n",
      " DepTime           | 1147.0  \n",
      " CRSDepTime        | 1135    \n",
      " ArrTime           | null    \n",
      " CRSArrTime        | 1346    \n",
      " UniqueCarrier     | US      \n",
      " FlightNum         | 1478    \n",
      " TailNum           | N163US  \n",
      " ActualElapsedTime | null    \n",
      " CRSElapsedTime    | 131.0   \n",
      " AirTime           | null    \n",
      " ArrDelay          | null    \n",
      " DepDelay          | 12.0    \n",
      " Origin            | CLT     \n",
      " Dest              | BOS     \n",
      " Distance          | 728     \n",
      " TaxiIn            | null    \n",
      " TaxiOut           | null    \n",
      " Cancelled         | 1       \n",
      " CancellationCode  | A       \n",
      " Diverted          | 0       \n",
      " CarrierDelay      | null    \n",
      " WeatherDelay      | null    \n",
      " NASDelay          | null    \n",
      " SecurityDelay     | null    \n",
      " LateAircraftDelay | null    \n",
      "-RECORD 16-------------------\n",
      " _c0               | 5637600 \n",
      " Year              | 2008    \n",
      " Month             | 10      \n",
      " DayofMonth        | 17      \n",
      " DayOfWeek         | 5       \n",
      " DepTime           | 1321.0  \n",
      " CRSDepTime        | 1315    \n",
      " ArrTime           | null    \n",
      " CRSArrTime        | 1445    \n",
      " UniqueCarrier     | US      \n",
      " FlightNum         | 1615    \n",
      " TailNum           | N961UW  \n",
      " ActualElapsedTime | null    \n",
      " CRSElapsedTime    | 150.0   \n",
      " AirTime           | null    \n",
      " ArrDelay          | null    \n",
      " DepDelay          | 6.0     \n",
      " Origin            | CLT     \n",
      " Dest              | MCI     \n",
      " Distance          | 809     \n",
      " TaxiIn            | null    \n",
      " TaxiOut           | null    \n",
      " Cancelled         | 1       \n",
      " CancellationCode  | A       \n",
      " Diverted          | 0       \n",
      " CarrierDelay      | null    \n",
      " WeatherDelay      | null    \n",
      " NASDelay          | null    \n",
      " SecurityDelay     | null    \n",
      " LateAircraftDelay | null    \n",
      "-RECORD 17-------------------\n",
      " _c0               | 5648805 \n",
      " Year              | 2008    \n",
      " Month             | 10      \n",
      " DayofMonth        | 26      \n",
      " DayOfWeek         | 7       \n",
      " DepTime           | 1405.0  \n",
      " CRSDepTime        | 1350    \n",
      " ArrTime           | null    \n",
      " CRSArrTime        | 1504    \n",
      " UniqueCarrier     | US      \n",
      " FlightNum         | 1193    \n",
      " TailNum           | N195UW  \n",
      " ActualElapsedTime | null    \n",
      " CRSElapsedTime    | 74.0    \n",
      " AirTime           | null    \n",
      " ArrDelay          | null    \n",
      " DepDelay          | 15.0    \n",
      " Origin            | PHX     \n",
      " Dest              | SAN     \n",
      " Distance          | 304     \n",
      " TaxiIn            | null    \n",
      " TaxiOut           | null    \n",
      " Cancelled         | 1       \n",
      " CancellationCode  | A       \n",
      " Diverted          | 0       \n",
      " CarrierDelay      | null    \n",
      " WeatherDelay      | null    \n",
      " NASDelay          | null    \n",
      " SecurityDelay     | null    \n",
      " LateAircraftDelay | null    \n",
      "-RECORD 18-------------------\n",
      " _c0               | 5681133 \n",
      " Year              | 2008    \n",
      " Month             | 10      \n",
      " DayofMonth        | 29      \n",
      " DayOfWeek         | 3       \n",
      " DepTime           | 845.0   \n",
      " CRSDepTime        | 830     \n",
      " ArrTime           | null    \n",
      " CRSArrTime        | 947     \n",
      " UniqueCarrier     | DL      \n",
      " FlightNum         | 1345    \n",
      " TailNum           | N912DE  \n",
      " ActualElapsedTime | null    \n",
      " CRSElapsedTime    | 77.0    \n",
      " AirTime           | null    \n",
      " ArrDelay          | null    \n",
      " DepDelay          | 15.0    \n",
      " Origin            | LGA     \n",
      " Dest              | DCA     \n",
      " Distance          | 214     \n",
      " TaxiIn            | null    \n",
      " TaxiOut           | null    \n",
      " Cancelled         | 1       \n",
      " CancellationCode  | A       \n",
      " Diverted          | 0       \n",
      " CarrierDelay      | null    \n",
      " WeatherDelay      | null    \n",
      " NASDelay          | null    \n",
      " SecurityDelay     | null    \n",
      " LateAircraftDelay | null    \n",
      "-RECORD 19-------------------\n",
      " _c0               | 5700121 \n",
      " Year              | 2008    \n",
      " Month             | 10      \n",
      " DayofMonth        | 8       \n",
      " DayOfWeek         | 3       \n",
      " DepTime           | 2319.0  \n",
      " CRSDepTime        | 2135    \n",
      " ArrTime           | null    \n",
      " CRSArrTime        | 2224    \n",
      " UniqueCarrier     | EV      \n",
      " FlightNum         | 5608    \n",
      " TailNum           | N933EV  \n",
      " ActualElapsedTime | null    \n",
      " CRSElapsedTime    | 49.0    \n",
      " AirTime           | null    \n",
      " ArrDelay          | null    \n",
      " DepDelay          | 104.0   \n",
      " Origin            | ATL     \n",
      " Dest              | CSG     \n",
      " Distance          | 83      \n",
      " TaxiIn            | null    \n",
      " TaxiOut           | null    \n",
      " Cancelled         | 1       \n",
      " CancellationCode  | B       \n",
      " Diverted          | 0       \n",
      " CarrierDelay      | null    \n",
      " WeatherDelay      | null    \n",
      " NASDelay          | null    \n",
      " SecurityDelay     | null    \n",
      " LateAircraftDelay | null    \n",
      "only showing top 20 rows\n",
      "\n"
     ]
    }
   ],
   "source": [
    "dataset.select(*(col(c) for c in dataset.columns)).where((col(\"TaxiOut\").isNull() | isnan(col(\"TaxiOut\")))).show(vertical=True)"
   ]
  },
  {
   "cell_type": "code",
   "execution_count": 73,
   "id": "9573b0d5",
   "metadata": {},
   "outputs": [
    {
     "name": "stdout",
     "output_type": "stream",
     "text": [
      "(0 rows)\n",
      "\n"
     ]
    }
   ],
   "source": [
    "dataset.select(*(col(c) for c in dataset.columns)).where(((col(\"TaxiOut\").isNull() | isnan(col(\"TaxiOut\")))) & (col(\"CancellationCode\")=='N')).show(vertical=True)"
   ]
  },
  {
   "cell_type": "markdown",
   "id": "4faf6794",
   "metadata": {},
   "source": [
    "We can infer from the above queries that TaxiOut is null only in the case of a cancelled flight. So it is fine if these are converted to 0s after type casting"
   ]
  },
  {
   "cell_type": "code",
   "execution_count": 74,
   "id": "8c3e4c2e",
   "metadata": {},
   "outputs": [
    {
     "name": "stdout",
     "output_type": "stream",
     "text": [
      "-RECORD 0-------------------\n",
      " _c0               | 454268 \n",
      " Year              | 2008   \n",
      " Month             | 1      \n",
      " DayofMonth        | 31     \n",
      " DayOfWeek         | 4      \n",
      " DepTime           | 745.0  \n",
      " CRSDepTime        | 715    \n",
      " ArrTime           | null   \n",
      " CRSArrTime        | 941    \n",
      " UniqueCarrier     | 9E     \n",
      " FlightNum         | 2001   \n",
      " TailNum           | 91469E \n",
      " ActualElapsedTime | null   \n",
      " CRSElapsedTime    | null   \n",
      " AirTime           | null   \n",
      " ArrDelay          | null   \n",
      " DepDelay          | 30.0   \n",
      " Origin            | ATL    \n",
      " Dest              | AUS    \n",
      " Distance          | 813    \n",
      " TaxiIn            | null   \n",
      " TaxiOut           | 15.0   \n",
      " Cancelled         | 0      \n",
      " CancellationCode  | N      \n",
      " Diverted          | 1      \n",
      " CarrierDelay      | null   \n",
      " WeatherDelay      | null   \n",
      " NASDelay          | null   \n",
      " SecurityDelay     | null   \n",
      " LateAircraftDelay | null   \n",
      "-RECORD 1-------------------\n",
      " _c0               | 454394 \n",
      " Year              | 2008   \n",
      " Month             | 1      \n",
      " DayofMonth        | 10     \n",
      " DayOfWeek         | 4      \n",
      " DepTime           | 1920.0 \n",
      " CRSDepTime        | 1830   \n",
      " ArrTime           | null   \n",
      " CRSArrTime        | 2102   \n",
      " UniqueCarrier     | 9E     \n",
      " FlightNum         | 2004   \n",
      " TailNum           | 91539E \n",
      " ActualElapsedTime | null   \n",
      " CRSElapsedTime    | null   \n",
      " AirTime           | null   \n",
      " ArrDelay          | null   \n",
      " DepDelay          | 50.0   \n",
      " Origin            | IAH    \n",
      " Dest              | MEM    \n",
      " Distance          | 469    \n",
      " TaxiIn            | null   \n",
      " TaxiOut           | 20.0   \n",
      " Cancelled         | 0      \n",
      " CancellationCode  | N      \n",
      " Diverted          | 1      \n",
      " CarrierDelay      | null   \n",
      " WeatherDelay      | null   \n",
      " NASDelay          | null   \n",
      " SecurityDelay     | null   \n",
      " LateAircraftDelay | null   \n",
      "-RECORD 2-------------------\n",
      " _c0               | 454781 \n",
      " Year              | 2008   \n",
      " Month             | 1      \n",
      " DayofMonth        | 7      \n",
      " DayOfWeek         | 1      \n",
      " DepTime           | 1130.0 \n",
      " CRSDepTime        | 1115   \n",
      " ArrTime           | null   \n",
      " CRSArrTime        | 2400   \n",
      " UniqueCarrier     | 9E     \n",
      " FlightNum         | 2807   \n",
      " TailNum           | 89309E \n",
      " ActualElapsedTime | null   \n",
      " CRSElapsedTime    | null   \n",
      " AirTime           | null   \n",
      " ArrDelay          | null   \n",
      " DepDelay          | 15.0   \n",
      " Origin            | MSP    \n",
      " Dest              | CID    \n",
      " Distance          | 221    \n",
      " TaxiIn            | null   \n",
      " TaxiOut           | 15.0   \n",
      " Cancelled         | 0      \n",
      " CancellationCode  | N      \n",
      " Diverted          | 1      \n",
      " CarrierDelay      | null   \n",
      " WeatherDelay      | null   \n",
      " NASDelay          | null   \n",
      " SecurityDelay     | null   \n",
      " LateAircraftDelay | null   \n",
      "-RECORD 3-------------------\n",
      " _c0               | 455112 \n",
      " Year              | 2008   \n",
      " Month             | 1      \n",
      " DayofMonth        | 5      \n",
      " DayOfWeek         | 6      \n",
      " DepTime           | 916.0  \n",
      " CRSDepTime        | 805    \n",
      " ArrTime           | null   \n",
      " CRSArrTime        | 2400   \n",
      " UniqueCarrier     | 9E     \n",
      " FlightNum         | 2825   \n",
      " TailNum           | 80239E \n",
      " ActualElapsedTime | null   \n",
      " CRSElapsedTime    | null   \n",
      " AirTime           | null   \n",
      " ArrDelay          | null   \n",
      " DepDelay          | 71.0   \n",
      " Origin            | IDA    \n",
      " Dest              | MSP    \n",
      " Distance          | 939    \n",
      " TaxiIn            | null   \n",
      " TaxiOut           | 12.0   \n",
      " Cancelled         | 0      \n",
      " CancellationCode  | N      \n",
      " Diverted          | 1      \n",
      " CarrierDelay      | null   \n",
      " WeatherDelay      | null   \n",
      " NASDelay          | null   \n",
      " SecurityDelay     | null   \n",
      " LateAircraftDelay | null   \n",
      "-RECORD 4-------------------\n",
      " _c0               | 455680 \n",
      " Year              | 2008   \n",
      " Month             | 1      \n",
      " DayofMonth        | 17     \n",
      " DayOfWeek         | 4      \n",
      " DepTime           | 1947.0 \n",
      " CRSDepTime        | 1910   \n",
      " ArrTime           | null   \n",
      " CRSArrTime        | 2400   \n",
      " UniqueCarrier     | 9E     \n",
      " FlightNum         | 2860   \n",
      " TailNum           | 89869E \n",
      " ActualElapsedTime | null   \n",
      " CRSElapsedTime    | null   \n",
      " AirTime           | null   \n",
      " ArrDelay          | null   \n",
      " DepDelay          | 37.0   \n",
      " Origin            | MSP    \n",
      " Dest              | TVC    \n",
      " Distance          | 375    \n",
      " TaxiIn            | null   \n",
      " TaxiOut           | 32.0   \n",
      " Cancelled         | 0      \n",
      " CancellationCode  | N      \n",
      " Diverted          | 1      \n",
      " CarrierDelay      | null   \n",
      " WeatherDelay      | null   \n",
      " NASDelay          | null   \n",
      " SecurityDelay     | null   \n",
      " LateAircraftDelay | null   \n",
      "-RECORD 5-------------------\n",
      " _c0               | 455946 \n",
      " Year              | 2008   \n",
      " Month             | 1      \n",
      " DayofMonth        | 14     \n",
      " DayOfWeek         | 1      \n",
      " DepTime           | 927.0  \n",
      " CRSDepTime        | 921    \n",
      " ArrTime           | null   \n",
      " CRSArrTime        | 2400   \n",
      " UniqueCarrier     | 9E     \n",
      " FlightNum         | 2874   \n",
      " TailNum           | 87459E \n",
      " ActualElapsedTime | null   \n",
      " CRSElapsedTime    | null   \n",
      " AirTime           | null   \n",
      " ArrDelay          | null   \n",
      " DepDelay          | 6.0    \n",
      " Origin            | DTW    \n",
      " Dest              | TVC    \n",
      " Distance          | 207    \n",
      " TaxiIn            | null   \n",
      " TaxiOut           | 72.0   \n",
      " Cancelled         | 0      \n",
      " CancellationCode  | N      \n",
      " Diverted          | 1      \n",
      " CarrierDelay      | null   \n",
      " WeatherDelay      | null   \n",
      " NASDelay          | null   \n",
      " SecurityDelay     | null   \n",
      " LateAircraftDelay | null   \n",
      "-RECORD 6-------------------\n",
      " _c0               | 457546 \n",
      " Year              | 2008   \n",
      " Month             | 1      \n",
      " DayofMonth        | 7      \n",
      " DayOfWeek         | 1      \n",
      " DepTime           | 1018.0 \n",
      " CRSDepTime        | 909    \n",
      " ArrTime           | null   \n",
      " CRSArrTime        | 2400   \n",
      " UniqueCarrier     | 9E     \n",
      " FlightNum         | 2931   \n",
      " TailNum           | 89729E \n",
      " ActualElapsedTime | null   \n",
      " CRSElapsedTime    | null   \n",
      " AirTime           | null   \n",
      " ArrDelay          | null   \n",
      " DepDelay          | 69.0   \n",
      " Origin            | DTW    \n",
      " Dest              | MSN    \n",
      " Distance          | 312    \n",
      " TaxiIn            | null   \n",
      " TaxiOut           | 21.0   \n",
      " Cancelled         | 0      \n",
      " CancellationCode  | N      \n",
      " Diverted          | 1      \n",
      " CarrierDelay      | null   \n",
      " WeatherDelay      | null   \n",
      " NASDelay          | null   \n",
      " SecurityDelay     | null   \n",
      " LateAircraftDelay | null   \n",
      "-RECORD 7-------------------\n",
      " _c0               | 458327 \n",
      " Year              | 2008   \n",
      " Month             | 1      \n",
      " DayofMonth        | 7      \n",
      " DayOfWeek         | 1      \n",
      " DepTime           | 1551.0 \n",
      " CRSDepTime        | 1538   \n",
      " ArrTime           | null   \n",
      " CRSArrTime        | 2400   \n",
      " UniqueCarrier     | 9E     \n",
      " FlightNum         | 2956   \n",
      " TailNum           | 86949E \n",
      " ActualElapsedTime | null   \n",
      " CRSElapsedTime    | null   \n",
      " AirTime           | null   \n",
      " ArrDelay          | null   \n",
      " DepDelay          | 13.0   \n",
      " Origin            | DTW    \n",
      " Dest              | CID    \n",
      " Distance          | 431    \n",
      " TaxiIn            | null   \n",
      " TaxiOut           | 23.0   \n",
      " Cancelled         | 0      \n",
      " CancellationCode  | N      \n",
      " Diverted          | 1      \n",
      " CarrierDelay      | null   \n",
      " WeatherDelay      | null   \n",
      " NASDelay          | null   \n",
      " SecurityDelay     | null   \n",
      " LateAircraftDelay | null   \n",
      "-RECORD 8-------------------\n",
      " _c0               | 458896 \n",
      " Year              | 2008   \n",
      " Month             | 1      \n",
      " DayofMonth        | 13     \n",
      " DayOfWeek         | 7      \n",
      " DepTime           | 2221.0 \n",
      " CRSDepTime        | 2118   \n",
      " ArrTime           | null   \n",
      " CRSArrTime        | 2400   \n",
      " UniqueCarrier     | 9E     \n",
      " FlightNum         | 2973   \n",
      " TailNum           | 84329E \n",
      " ActualElapsedTime | null   \n",
      " CRSElapsedTime    | null   \n",
      " AirTime           | null   \n",
      " ArrDelay          | null   \n",
      " DepDelay          | 63.0   \n",
      " Origin            | DTW    \n",
      " Dest              | AVL    \n",
      " Distance          | 470    \n",
      " TaxiIn            | null   \n",
      " TaxiOut           | 28.0   \n",
      " Cancelled         | 0      \n",
      " CancellationCode  | N      \n",
      " Diverted          | 1      \n",
      " CarrierDelay      | null   \n",
      " WeatherDelay      | null   \n",
      " NASDelay          | null   \n",
      " SecurityDelay     | null   \n",
      " LateAircraftDelay | null   \n",
      "-RECORD 9-------------------\n",
      " _c0               | 459155 \n",
      " Year              | 2008   \n",
      " Month             | 1      \n",
      " DayofMonth        | 14     \n",
      " DayOfWeek         | 1      \n",
      " DepTime           | 1600.0 \n",
      " CRSDepTime        | 1508   \n",
      " ArrTime           | null   \n",
      " CRSArrTime        | 2400   \n",
      " UniqueCarrier     | 9E     \n",
      " FlightNum         | 2982   \n",
      " TailNum           | 80359E \n",
      " ActualElapsedTime | null   \n",
      " CRSElapsedTime    | null   \n",
      " AirTime           | null   \n",
      " ArrDelay          | null   \n",
      " DepDelay          | 52.0   \n",
      " Origin            | DTW    \n",
      " Dest              | BGM    \n",
      " Distance          | 378    \n",
      " TaxiIn            | null   \n",
      " TaxiOut           | 25.0   \n",
      " Cancelled         | 0      \n",
      " CancellationCode  | N      \n",
      " Diverted          | 1      \n",
      " CarrierDelay      | null   \n",
      " WeatherDelay      | null   \n",
      " NASDelay          | null   \n",
      " SecurityDelay     | null   \n",
      " LateAircraftDelay | null   \n",
      "-RECORD 10------------------\n",
      " _c0               | 459348 \n",
      " Year              | 2008   \n",
      " Month             | 1      \n",
      " DayofMonth        | 6      \n",
      " DayOfWeek         | 7      \n",
      " DepTime           | 857.0  \n",
      " CRSDepTime        | 851    \n",
      " ArrTime           | null   \n",
      " CRSArrTime        | 2400   \n",
      " UniqueCarrier     | 9E     \n",
      " FlightNum         | 2990   \n",
      " TailNum           | 89729E \n",
      " ActualElapsedTime | null   \n",
      " CRSElapsedTime    | null   \n",
      " AirTime           | null   \n",
      " ArrDelay          | null   \n",
      " DepDelay          | 6.0    \n",
      " Origin            | DTW    \n",
      " Dest              | RST    \n",
      " Distance          | 477    \n",
      " TaxiIn            | null   \n",
      " TaxiOut           | 29.0   \n",
      " Cancelled         | 0      \n",
      " CancellationCode  | N      \n",
      " Diverted          | 1      \n",
      " CarrierDelay      | null   \n",
      " WeatherDelay      | null   \n",
      " NASDelay          | null   \n",
      " SecurityDelay     | null   \n",
      " LateAircraftDelay | null   \n",
      "-RECORD 11------------------\n",
      " _c0               | 460315 \n",
      " Year              | 2008   \n",
      " Month             | 1      \n",
      " DayofMonth        | 1      \n",
      " DayOfWeek         | 2      \n",
      " DepTime           | 733.0  \n",
      " CRSDepTime        | 600    \n",
      " ArrTime           | null   \n",
      " CRSArrTime        | 2400   \n",
      " UniqueCarrier     | 9E     \n",
      " FlightNum         | 3723   \n",
      " TailNum           | 89139E \n",
      " ActualElapsedTime | null   \n",
      " CRSElapsedTime    | null   \n",
      " AirTime           | null   \n",
      " ArrDelay          | null   \n",
      " DepDelay          | 93.0   \n",
      " Origin            | GSP    \n",
      " Dest              | DTW    \n",
      " Distance          | 508    \n",
      " TaxiIn            | null   \n",
      " TaxiOut           | 15.0   \n",
      " Cancelled         | 0      \n",
      " CancellationCode  | N      \n",
      " Diverted          | 1      \n",
      " CarrierDelay      | null   \n",
      " WeatherDelay      | null   \n",
      " NASDelay          | null   \n",
      " SecurityDelay     | null   \n",
      " LateAircraftDelay | null   \n",
      "-RECORD 12------------------\n",
      " _c0               | 460361 \n",
      " Year              | 2008   \n",
      " Month             | 1      \n",
      " DayofMonth        | 22     \n",
      " DayOfWeek         | 2      \n",
      " DepTime           | 1407.0 \n",
      " CRSDepTime        | 1250   \n",
      " ArrTime           | null   \n",
      " CRSArrTime        | 2400   \n",
      " UniqueCarrier     | 9E     \n",
      " FlightNum         | 3724   \n",
      " TailNum           | 84329E \n",
      " ActualElapsedTime | null   \n",
      " CRSElapsedTime    | null   \n",
      " AirTime           | null   \n",
      " ArrDelay          | null   \n",
      " DepDelay          | 77.0   \n",
      " Origin            | GSP    \n",
      " Dest              | DTW    \n",
      " Distance          | 508    \n",
      " TaxiIn            | null   \n",
      " TaxiOut           | 35.0   \n",
      " Cancelled         | 0      \n",
      " CancellationCode  | N      \n",
      " Diverted          | 1      \n",
      " CarrierDelay      | null   \n",
      " WeatherDelay      | null   \n",
      " NASDelay          | null   \n",
      " SecurityDelay     | null   \n",
      " LateAircraftDelay | null   \n",
      "-RECORD 13------------------\n",
      " _c0               | 460742 \n",
      " Year              | 2008   \n",
      " Month             | 1      \n",
      " DayofMonth        | 2      \n",
      " DayOfWeek         | 3      \n",
      " DepTime           | 2343.0 \n",
      " CRSDepTime        | 2117   \n",
      " ArrTime           | null   \n",
      " CRSArrTime        | 2400   \n",
      " UniqueCarrier     | 9E     \n",
      " FlightNum         | 3739   \n",
      " TailNum           | 88969E \n",
      " ActualElapsedTime | null   \n",
      " CRSElapsedTime    | null   \n",
      " AirTime           | null   \n",
      " ArrDelay          | null   \n",
      " DepDelay          | 146.0  \n",
      " Origin            | DTW    \n",
      " Dest              | BTV    \n",
      " Distance          | 536    \n",
      " TaxiIn            | null   \n",
      " TaxiOut           | 24.0   \n",
      " Cancelled         | 0      \n",
      " CancellationCode  | N      \n",
      " Diverted          | 1      \n",
      " CarrierDelay      | null   \n",
      " WeatherDelay      | null   \n",
      " NASDelay          | null   \n",
      " SecurityDelay     | null   \n",
      " LateAircraftDelay | null   \n",
      "-RECORD 14------------------\n",
      " _c0               | 461289 \n",
      " Year              | 2008   \n",
      " Month             | 1      \n",
      " DayofMonth        | 30     \n",
      " DayOfWeek         | 3      \n",
      " DepTime           | 1126.0 \n",
      " CRSDepTime        | 1013   \n",
      " ArrTime           | null   \n",
      " CRSArrTime        | 2400   \n",
      " UniqueCarrier     | 9E     \n",
      " FlightNum         | 3756   \n",
      " TailNum           | 88369E \n",
      " ActualElapsedTime | null   \n",
      " CRSElapsedTime    | null   \n",
      " AirTime           | null   \n",
      " ArrDelay          | null   \n",
      " DepDelay          | 73.0   \n",
      " Origin            | DTW    \n",
      " Dest              | BUF    \n",
      " Distance          | 240    \n",
      " TaxiIn            | null   \n",
      " TaxiOut           | 29.0   \n",
      " Cancelled         | 0      \n",
      " CancellationCode  | N      \n",
      " Diverted          | 1      \n",
      " CarrierDelay      | null   \n",
      " WeatherDelay      | null   \n",
      " NASDelay          | null   \n",
      " SecurityDelay     | null   \n",
      " LateAircraftDelay | null   \n",
      "-RECORD 15------------------\n",
      " _c0               | 463722 \n",
      " Year              | 2008   \n",
      " Month             | 1      \n",
      " DayofMonth        | 31     \n",
      " DayOfWeek         | 4      \n",
      " DepTime           | 2125.0 \n",
      " CRSDepTime        | 2110   \n",
      " ArrTime           | null   \n",
      " CRSArrTime        | 2400   \n",
      " UniqueCarrier     | 9E     \n",
      " FlightNum         | 4748   \n",
      " TailNum           | 85259E \n",
      " ActualElapsedTime | null   \n",
      " CRSElapsedTime    | null   \n",
      " AirTime           | null   \n",
      " ArrDelay          | null   \n",
      " DepDelay          | 15.0   \n",
      " Origin            | MSP    \n",
      " Dest              | HLN    \n",
      " Distance          | 913    \n",
      " TaxiIn            | null   \n",
      " TaxiOut           | 50.0   \n",
      " Cancelled         | 0      \n",
      " CancellationCode  | N      \n",
      " Diverted          | 1      \n",
      " CarrierDelay      | null   \n",
      " WeatherDelay      | null   \n",
      " NASDelay          | null   \n",
      " SecurityDelay     | null   \n",
      " LateAircraftDelay | null   \n",
      "-RECORD 16------------------\n",
      " _c0               | 463753 \n",
      " Year              | 2008   \n",
      " Month             | 1      \n",
      " DayofMonth        | 6      \n",
      " DayOfWeek         | 7      \n",
      " DepTime           | 831.0  \n",
      " CRSDepTime        | 820    \n",
      " ArrTime           | null   \n",
      " CRSArrTime        | 2400   \n",
      " UniqueCarrier     | 9E     \n",
      " FlightNum         | 4749   \n",
      " TailNum           | 80279E \n",
      " ActualElapsedTime | null   \n",
      " CRSElapsedTime    | null   \n",
      " AirTime           | null   \n",
      " ArrDelay          | null   \n",
      " DepDelay          | 11.0   \n",
      " Origin            | HLN    \n",
      " Dest              | MSP    \n",
      " Distance          | 913    \n",
      " TaxiIn            | null   \n",
      " TaxiOut           | 18.0   \n",
      " Cancelled         | 0      \n",
      " CancellationCode  | N      \n",
      " Diverted          | 1      \n",
      " CarrierDelay      | null   \n",
      " WeatherDelay      | null   \n",
      " NASDelay          | null   \n",
      " SecurityDelay     | null   \n",
      " LateAircraftDelay | null   \n",
      "-RECORD 17------------------\n",
      " _c0               | 463775 \n",
      " Year              | 2008   \n",
      " Month             | 1      \n",
      " DayofMonth        | 28     \n",
      " DayOfWeek         | 1      \n",
      " DepTime           | 1015.0 \n",
      " CRSDepTime        | 805    \n",
      " ArrTime           | null   \n",
      " CRSArrTime        | 2400   \n",
      " UniqueCarrier     | 9E     \n",
      " FlightNum         | 4749   \n",
      " TailNum           | 85069E \n",
      " ActualElapsedTime | null   \n",
      " CRSElapsedTime    | null   \n",
      " AirTime           | null   \n",
      " ArrDelay          | null   \n",
      " DepDelay          | 130.0  \n",
      " Origin            | HLN    \n",
      " Dest              | MSP    \n",
      " Distance          | 913    \n",
      " TaxiIn            | null   \n",
      " TaxiOut           | 30.0   \n",
      " Cancelled         | 0      \n",
      " CancellationCode  | N      \n",
      " Diverted          | 1      \n",
      " CarrierDelay      | null   \n",
      " WeatherDelay      | null   \n",
      " NASDelay          | null   \n",
      " SecurityDelay     | null   \n",
      " LateAircraftDelay | null   \n",
      "-RECORD 18------------------\n",
      " _c0               | 464015 \n",
      " Year              | 2008   \n",
      " Month             | 1      \n",
      " DayofMonth        | 17     \n",
      " DayOfWeek         | 4      \n",
      " DepTime           | 1209.0 \n",
      " CRSDepTime        | 1010   \n",
      " ArrTime           | null   \n",
      " CRSArrTime        | 2400   \n",
      " UniqueCarrier     | 9E     \n",
      " FlightNum         | 4759   \n",
      " TailNum           | 89719E \n",
      " ActualElapsedTime | null   \n",
      " CRSElapsedTime    | null   \n",
      " AirTime           | null   \n",
      " ArrDelay          | null   \n",
      " DepDelay          | 119.0  \n",
      " Origin            | RDU    \n",
      " Dest              | IND    \n",
      " Distance          | 489    \n",
      " TaxiIn            | null   \n",
      " TaxiOut           | 11.0   \n",
      " Cancelled         | 0      \n",
      " CancellationCode  | N      \n",
      " Diverted          | 1      \n",
      " CarrierDelay      | null   \n",
      " WeatherDelay      | null   \n",
      " NASDelay          | null   \n",
      " SecurityDelay     | null   \n",
      " LateAircraftDelay | null   \n",
      "-RECORD 19------------------\n",
      " _c0               | 464259 \n",
      " Year              | 2008   \n",
      " Month             | 1      \n",
      " DayofMonth        | 1      \n",
      " DayOfWeek         | 2      \n",
      " DepTime           | 2120.0 \n",
      " CRSDepTime        | 1955   \n",
      " ArrTime           | null   \n",
      " CRSArrTime        | 2400   \n",
      " UniqueCarrier     | 9E     \n",
      " FlightNum         | 4769   \n",
      " TailNum           | 89809E \n",
      " ActualElapsedTime | null   \n",
      " CRSElapsedTime    | null   \n",
      " AirTime           | null   \n",
      " ArrDelay          | null   \n",
      " DepDelay          | 85.0   \n",
      " Origin            | IND    \n",
      " Dest              | BDL    \n",
      " Distance          | 728    \n",
      " TaxiIn            | null   \n",
      " TaxiOut           | 32.0   \n",
      " Cancelled         | 0      \n",
      " CancellationCode  | N      \n",
      " Diverted          | 1      \n",
      " CarrierDelay      | null   \n",
      " WeatherDelay      | null   \n",
      " NASDelay          | null   \n",
      " SecurityDelay     | null   \n",
      " LateAircraftDelay | null   \n",
      "only showing top 20 rows\n",
      "\n"
     ]
    }
   ],
   "source": [
    "dataset.select(*(col(c) for c in dataset.columns)).where((col(\"CRSElapsedTime\").isNull() | isnan(col(\"CRSElapsedTime\")))).show(vertical=True)"
   ]
  },
  {
   "cell_type": "code",
   "execution_count": 75,
   "id": "d0d957fd",
   "metadata": {},
   "outputs": [
    {
     "data": {
      "text/plain": [
       "0"
      ]
     },
     "execution_count": 75,
     "metadata": {},
     "output_type": "execute_result"
    }
   ],
   "source": [
    "dataset.select(*(col(c) for c in dataset.columns)).where((col(\"CRSElapsedTime\").isNull() | isnan(col(\"CRSElapsedTime\"))) & (col(\"Diverted\")==0)).count()"
   ]
  },
  {
   "cell_type": "markdown",
   "id": "91e7768a",
   "metadata": {},
   "source": [
    "We can infer from the above queries that CRSElapsedTime is null only in the case of a diverted flight. So it is fine if these are converted to 0s after type casting"
   ]
  },
  {
   "cell_type": "markdown",
   "id": "043dcd99",
   "metadata": {},
   "source": [
    "Last columns have null values if the flight is cancelled instead of getting delayed, we do not drop these columns. Instead when we type cast the column to numeric data type these will be converted to zero which makes sense"
   ]
  },
  {
   "cell_type": "code",
   "execution_count": 76,
   "id": "ef8cb60c",
   "metadata": {},
   "outputs": [
    {
     "data": {
      "text/plain": [
       "1936758"
      ]
     },
     "execution_count": 76,
     "metadata": {},
     "output_type": "execute_result"
    }
   ],
   "source": [
    "dataset.count()"
   ]
  },
  {
   "cell_type": "code",
   "execution_count": 82,
   "id": "1e3b6b3d",
   "metadata": {},
   "outputs": [
    {
     "data": {
      "text/plain": [
       "1936758"
      ]
     },
     "execution_count": 82,
     "metadata": {},
     "output_type": "execute_result"
    }
   ],
   "source": [
    "dataset.select(\"_c0\").distinct().count()"
   ]
  },
  {
   "cell_type": "markdown",
   "id": "8c2ff8a7",
   "metadata": {},
   "source": [
    "Means that _c0 column is just for indexing the entreis, therefore we will use this column for joining the 2 datasets"
   ]
  },
  {
   "cell_type": "code",
   "execution_count": 85,
   "id": "f5255348",
   "metadata": {},
   "outputs": [],
   "source": [
    "#Have to do some pre processing here as otherwise everything will be sent as Text there \n",
    "list_of_columns=dataset.columns\n",
    "Categorical_columns=['UniqueCarrier','TailNum','Origin','Dest','CancellationCode']\n",
    "#Because rest everything in minutes or numerical, last columns that are delays for specific reasons are null if the flight is cancelled\n",
    "#They will be converted to 0 when we do the conversion from string to numeric \n",
    "\n",
    "for col_name in Categorical_columns:\n",
    "    list_of_columns.remove(col_name) \n",
    "\n",
    "#Null values will be converted to 0.0\n",
    "#Adding _c0 for the join operation, so that we have the correct join, and no duplicates are created due to the change of null to 0.0\n",
    "Categorical_columns.append(\"_c0\")\n",
    "\n",
    "numeric_dataset= dataset.select(*(col(c).cast('float') for c in list_of_columns))\n",
    "updated_dataset= numeric_dataset.join(dataset.select(*(col(c) for c in Categorical_columns)),\"_c0\")"
   ]
  },
  {
   "cell_type": "code",
   "execution_count": null,
   "id": "5ac45a5a",
   "metadata": {},
   "outputs": [],
   "source": [
    "del(numeric_dataset)\n",
    "del(dataset)\n",
    "numeric_dataset_dataset.unpersist()\n",
    "dataset.unpersist()"
   ]
  },
  {
   "cell_type": "markdown",
   "id": "646b0437",
   "metadata": {},
   "source": [
    "As the null values are handled during the pre-processing step we do not need to treat them by replacing them with the mean value, or some other technique used for handling the null values. Can also use pyspark.ml.features.Imputer module if have dataset which contains null values. (Best case is drop those rows if not facing with the problem of data insufficiency)"
   ]
  },
  {
   "cell_type": "code",
   "execution_count": 87,
   "id": "e1f9b10d",
   "metadata": {},
   "outputs": [
    {
     "name": "stdout",
     "output_type": "stream",
     "text": [
      "root\n",
      " |-- _c0: float (nullable = true)\n",
      " |-- Year: float (nullable = true)\n",
      " |-- Month: float (nullable = true)\n",
      " |-- DayofMonth: float (nullable = true)\n",
      " |-- DayOfWeek: float (nullable = true)\n",
      " |-- DepTime: float (nullable = true)\n",
      " |-- CRSDepTime: float (nullable = true)\n",
      " |-- ArrTime: float (nullable = true)\n",
      " |-- CRSArrTime: float (nullable = true)\n",
      " |-- FlightNum: float (nullable = true)\n",
      " |-- ActualElapsedTime: float (nullable = true)\n",
      " |-- CRSElapsedTime: float (nullable = true)\n",
      " |-- AirTime: float (nullable = true)\n",
      " |-- ArrDelay: float (nullable = true)\n",
      " |-- DepDelay: float (nullable = true)\n",
      " |-- Distance: float (nullable = true)\n",
      " |-- TaxiIn: float (nullable = true)\n",
      " |-- TaxiOut: float (nullable = true)\n",
      " |-- Cancelled: float (nullable = true)\n",
      " |-- Diverted: float (nullable = true)\n",
      " |-- CarrierDelay: float (nullable = true)\n",
      " |-- WeatherDelay: float (nullable = true)\n",
      " |-- NASDelay: float (nullable = true)\n",
      " |-- SecurityDelay: float (nullable = true)\n",
      " |-- LateAircraftDelay: float (nullable = true)\n",
      " |-- UniqueCarrier: string (nullable = true)\n",
      " |-- TailNum: string (nullable = true)\n",
      " |-- Origin: string (nullable = true)\n",
      " |-- Dest: string (nullable = true)\n",
      " |-- CancellationCode: string (nullable = true)\n",
      "\n"
     ]
    }
   ],
   "source": [
    "updated_dataset.printSchema()"
   ]
  },
  {
   "cell_type": "code",
   "execution_count": 89,
   "id": "327112fd",
   "metadata": {},
   "outputs": [],
   "source": [
    "#Loading dataset into MySQL \n",
    "updated_dataset.select(*(col(c) for c in dataset.columns)).write.format(\"jdbc\") \\\n",
    ".option(\"url\", \"jdbc:mysql://localhost:3306/Sys\") \\\n",
    ".option(\"driver\", \"com.mysql.jdbc.Driver\").option(\"dbtable\", \"dataset\") \\\n",
    ".option(\"user\", \"root\").option(\"password\", \"MySQL\").save()"
   ]
  },
  {
   "cell_type": "code",
   "execution_count": 5,
   "id": "a56cdfb0",
   "metadata": {},
   "outputs": [],
   "source": [
    "#Loading dataset from MySQL (after doing simple anaysis in MySQL)\n",
    "updated_dataset = spark.read.format(\"jdbc\") \\\n",
    ".option(\"url\", \"jdbc:mysql://localhost:3306/Sys\") \\\n",
    ".option(\"driver\", \"com.mysql.jdbc.Driver\").option(\"dbtable\", \"dataset\") \\\n",
    ".option(\"user\", \"root\").option(\"password\", \"MySQL\").load()"
   ]
  },
  {
   "cell_type": "code",
   "execution_count": 6,
   "id": "b7cc0fb4",
   "metadata": {},
   "outputs": [
    {
     "name": "stdout",
     "output_type": "stream",
     "text": [
      "root\n",
      " |-- _c0: double (nullable = true)\n",
      " |-- Year: double (nullable = true)\n",
      " |-- Month: double (nullable = true)\n",
      " |-- DayofMonth: double (nullable = true)\n",
      " |-- DayOfWeek: double (nullable = true)\n",
      " |-- DepTime: double (nullable = true)\n",
      " |-- CRSDepTime: double (nullable = true)\n",
      " |-- ArrTime: double (nullable = true)\n",
      " |-- CRSArrTime: double (nullable = true)\n",
      " |-- UniqueCarrier: string (nullable = true)\n",
      " |-- FlightNum: double (nullable = true)\n",
      " |-- TailNum: string (nullable = true)\n",
      " |-- ActualElapsedTime: double (nullable = true)\n",
      " |-- CRSElapsedTime: double (nullable = true)\n",
      " |-- AirTime: double (nullable = true)\n",
      " |-- ArrDelay: double (nullable = true)\n",
      " |-- DepDelay: double (nullable = true)\n",
      " |-- Origin: string (nullable = true)\n",
      " |-- Dest: string (nullable = true)\n",
      " |-- Distance: double (nullable = true)\n",
      " |-- TaxiIn: double (nullable = true)\n",
      " |-- TaxiOut: double (nullable = true)\n",
      " |-- Cancelled: double (nullable = true)\n",
      " |-- CancellationCode: string (nullable = true)\n",
      " |-- Diverted: double (nullable = true)\n",
      " |-- CarrierDelay: double (nullable = true)\n",
      " |-- WeatherDelay: double (nullable = true)\n",
      " |-- NASDelay: double (nullable = true)\n",
      " |-- SecurityDelay: double (nullable = true)\n",
      " |-- LateAircraftDelay: double (nullable = true)\n",
      " |-- label: integer (nullable = true)\n",
      "\n"
     ]
    }
   ],
   "source": [
    "updated_dataset.printSchema()"
   ]
  },
  {
   "cell_type": "markdown",
   "id": "00b7ea82",
   "metadata": {},
   "source": [
    "For a better formatted description we could use toPandas() function "
   ]
  },
  {
   "cell_type": "code",
   "execution_count": 92,
   "id": "0b02f942",
   "metadata": {},
   "outputs": [
    {
     "data": {
      "text/html": [
       "<div>\n",
       "<style scoped>\n",
       "    .dataframe tbody tr th:only-of-type {\n",
       "        vertical-align: middle;\n",
       "    }\n",
       "\n",
       "    .dataframe tbody tr th {\n",
       "        vertical-align: top;\n",
       "    }\n",
       "\n",
       "    .dataframe thead th {\n",
       "        text-align: right;\n",
       "    }\n",
       "</style>\n",
       "<table border=\"1\" class=\"dataframe\">\n",
       "  <thead>\n",
       "    <tr style=\"text-align: right;\">\n",
       "      <th></th>\n",
       "      <th>summary</th>\n",
       "      <th>_c0</th>\n",
       "      <th>Year</th>\n",
       "      <th>Month</th>\n",
       "      <th>DayofMonth</th>\n",
       "      <th>DayOfWeek</th>\n",
       "      <th>DepTime</th>\n",
       "      <th>CRSDepTime</th>\n",
       "      <th>ArrTime</th>\n",
       "      <th>CRSArrTime</th>\n",
       "      <th>...</th>\n",
       "      <th>TaxiOut</th>\n",
       "      <th>Cancelled</th>\n",
       "      <th>CancellationCode</th>\n",
       "      <th>Diverted</th>\n",
       "      <th>CarrierDelay</th>\n",
       "      <th>WeatherDelay</th>\n",
       "      <th>NASDelay</th>\n",
       "      <th>SecurityDelay</th>\n",
       "      <th>LateAircraftDelay</th>\n",
       "      <th>label</th>\n",
       "    </tr>\n",
       "  </thead>\n",
       "  <tbody>\n",
       "    <tr>\n",
       "      <th>0</th>\n",
       "      <td>count</td>\n",
       "      <td>1936758</td>\n",
       "      <td>1936758</td>\n",
       "      <td>1936758</td>\n",
       "      <td>1936758</td>\n",
       "      <td>1936758</td>\n",
       "      <td>1936758</td>\n",
       "      <td>1936758</td>\n",
       "      <td>1929648</td>\n",
       "      <td>1936758</td>\n",
       "      <td>...</td>\n",
       "      <td>1936303</td>\n",
       "      <td>1936758</td>\n",
       "      <td>1936758</td>\n",
       "      <td>1936758</td>\n",
       "      <td>1247488</td>\n",
       "      <td>1247488</td>\n",
       "      <td>1247488</td>\n",
       "      <td>1247488</td>\n",
       "      <td>1247488</td>\n",
       "      <td>1936758</td>\n",
       "    </tr>\n",
       "    <tr>\n",
       "      <th>1</th>\n",
       "      <td>mean</td>\n",
       "      <td>3341651.15150628</td>\n",
       "      <td>2008.0</td>\n",
       "      <td>6.11110629206127</td>\n",
       "      <td>15.753470490376186</td>\n",
       "      <td>3.9848272215733718</td>\n",
       "      <td>1518.5341168075722</td>\n",
       "      <td>1467.4726439751378</td>\n",
       "      <td>1610.140628757162</td>\n",
       "      <td>1634.224640868916</td>\n",
       "      <td>...</td>\n",
       "      <td>18.232202811233574</td>\n",
       "      <td>3.2683484462178546E-4</td>\n",
       "      <td>None</td>\n",
       "      <td>0.004003597764924684</td>\n",
       "      <td>19.179398920069772</td>\n",
       "      <td>3.7035706956700185</td>\n",
       "      <td>15.021635478657911</td>\n",
       "      <td>0.09013713959573158</td>\n",
       "      <td>25.296466178432176</td>\n",
       "      <td>0.640007682942319</td>\n",
       "    </tr>\n",
       "    <tr>\n",
       "      <th>2</th>\n",
       "      <td>stddev</td>\n",
       "      <td>2066064.9577971774</td>\n",
       "      <td>0.0</td>\n",
       "      <td>3.4825463936659657</td>\n",
       "      <td>8.776272060384185</td>\n",
       "      <td>1.9959662750518499</td>\n",
       "      <td>450.4852547937437</td>\n",
       "      <td>424.76679957727015</td>\n",
       "      <td>548.1781425365509</td>\n",
       "      <td>464.6347119906739</td>\n",
       "      <td>...</td>\n",
       "      <td>14.338534198201803</td>\n",
       "      <td>0.01807562425767471</td>\n",
       "      <td>None</td>\n",
       "      <td>0.06314721711010665</td>\n",
       "      <td>43.54620724547411</td>\n",
       "      <td>21.492900484108738</td>\n",
       "      <td>33.8330521636536</td>\n",
       "      <td>2.022714047505632</td>\n",
       "      <td>42.054861520954</td>\n",
       "      <td>0.5050477568478486</td>\n",
       "    </tr>\n",
       "    <tr>\n",
       "      <th>3</th>\n",
       "      <td>min</td>\n",
       "      <td>0.0</td>\n",
       "      <td>2008.0</td>\n",
       "      <td>1.0</td>\n",
       "      <td>1.0</td>\n",
       "      <td>1.0</td>\n",
       "      <td>1.0</td>\n",
       "      <td>0.0</td>\n",
       "      <td>1.0</td>\n",
       "      <td>0.0</td>\n",
       "      <td>...</td>\n",
       "      <td>0.0</td>\n",
       "      <td>0.0</td>\n",
       "      <td>A</td>\n",
       "      <td>0.0</td>\n",
       "      <td>0.0</td>\n",
       "      <td>0.0</td>\n",
       "      <td>0.0</td>\n",
       "      <td>0.0</td>\n",
       "      <td>0.0</td>\n",
       "      <td>0</td>\n",
       "    </tr>\n",
       "    <tr>\n",
       "      <th>4</th>\n",
       "      <td>max</td>\n",
       "      <td>7009730.0</td>\n",
       "      <td>2008.0</td>\n",
       "      <td>12.0</td>\n",
       "      <td>31.0</td>\n",
       "      <td>7.0</td>\n",
       "      <td>2400.0</td>\n",
       "      <td>2359.0</td>\n",
       "      <td>2400.0</td>\n",
       "      <td>2400.0</td>\n",
       "      <td>...</td>\n",
       "      <td>422.0</td>\n",
       "      <td>1.0</td>\n",
       "      <td>N</td>\n",
       "      <td>1.0</td>\n",
       "      <td>2436.0</td>\n",
       "      <td>1352.0</td>\n",
       "      <td>1357.0</td>\n",
       "      <td>392.0</td>\n",
       "      <td>1316.0</td>\n",
       "      <td>3</td>\n",
       "    </tr>\n",
       "  </tbody>\n",
       "</table>\n",
       "<p>5 rows × 32 columns</p>\n",
       "</div>"
      ],
      "text/plain": [
       "  summary                 _c0     Year               Month  \\\n",
       "0   count             1936758  1936758             1936758   \n",
       "1    mean    3341651.15150628   2008.0    6.11110629206127   \n",
       "2  stddev  2066064.9577971774      0.0  3.4825463936659657   \n",
       "3     min                 0.0   2008.0                 1.0   \n",
       "4     max           7009730.0   2008.0                12.0   \n",
       "\n",
       "           DayofMonth           DayOfWeek             DepTime  \\\n",
       "0             1936758             1936758             1936758   \n",
       "1  15.753470490376186  3.9848272215733718  1518.5341168075722   \n",
       "2   8.776272060384185  1.9959662750518499   450.4852547937437   \n",
       "3                 1.0                 1.0                 1.0   \n",
       "4                31.0                 7.0              2400.0   \n",
       "\n",
       "           CRSDepTime            ArrTime         CRSArrTime  ...  \\\n",
       "0             1936758            1929648            1936758  ...   \n",
       "1  1467.4726439751378  1610.140628757162  1634.224640868916  ...   \n",
       "2  424.76679957727015  548.1781425365509  464.6347119906739  ...   \n",
       "3                 0.0                1.0                0.0  ...   \n",
       "4              2359.0             2400.0             2400.0  ...   \n",
       "\n",
       "              TaxiOut              Cancelled CancellationCode  \\\n",
       "0             1936303                1936758          1936758   \n",
       "1  18.232202811233574  3.2683484462178546E-4             None   \n",
       "2  14.338534198201803    0.01807562425767471             None   \n",
       "3                 0.0                    0.0                A   \n",
       "4               422.0                    1.0                N   \n",
       "\n",
       "               Diverted        CarrierDelay        WeatherDelay  \\\n",
       "0               1936758             1247488             1247488   \n",
       "1  0.004003597764924684  19.179398920069772  3.7035706956700185   \n",
       "2   0.06314721711010665   43.54620724547411  21.492900484108738   \n",
       "3                   0.0                 0.0                 0.0   \n",
       "4                   1.0              2436.0              1352.0   \n",
       "\n",
       "             NASDelay        SecurityDelay   LateAircraftDelay  \\\n",
       "0             1247488              1247488             1247488   \n",
       "1  15.021635478657911  0.09013713959573158  25.296466178432176   \n",
       "2    33.8330521636536    2.022714047505632     42.054861520954   \n",
       "3                 0.0                  0.0                 0.0   \n",
       "4              1357.0                392.0              1316.0   \n",
       "\n",
       "                label  \n",
       "0             1936758  \n",
       "1   0.640007682942319  \n",
       "2  0.5050477568478486  \n",
       "3                   0  \n",
       "4                   3  \n",
       "\n",
       "[5 rows x 32 columns]"
      ]
     },
     "execution_count": 92,
     "metadata": {},
     "output_type": "execute_result"
    }
   ],
   "source": [
    "updated_dataset.describe().toPandas()"
   ]
  },
  {
   "cell_type": "code",
   "execution_count": 24,
   "id": "de51738e",
   "metadata": {},
   "outputs": [
    {
     "data": {
      "text/plain": [
       "[Row(Month=12.0, count=1397),\n",
       " Row(Month=6.0, count=1026),\n",
       " Row(Month=2.0, count=909),\n",
       " Row(Month=7.0, count=774),\n",
       " Row(Month=3.0, count=726),\n",
       " Row(Month=8.0, count=674),\n",
       " Row(Month=1.0, count=612),\n",
       " Row(Month=4.0, count=481),\n",
       " Row(Month=5.0, count=361),\n",
       " Row(Month=11.0, count=321),\n",
       " Row(Month=10.0, count=285),\n",
       " Row(Month=9.0, count=188)]"
      ]
     },
     "execution_count": 24,
     "metadata": {},
     "output_type": "execute_result"
    }
   ],
   "source": [
    "updated_dataset.select(\"Month\",\"Diverted\").where(col(\"Diverted\")==1).groupBy(\"Month\").count().sort(col('count').desc()).collect()"
   ]
  },
  {
   "cell_type": "code",
   "execution_count": 25,
   "id": "69fadaac",
   "metadata": {},
   "outputs": [
    {
     "data": {
      "text/plain": [
       "[Row(Month=12.0, count=480),\n",
       " Row(Month=11.0, count=94),\n",
       " Row(Month=10.0, count=59)]"
      ]
     },
     "execution_count": 25,
     "metadata": {},
     "output_type": "execute_result"
    }
   ],
   "source": [
    "updated_dataset.select(\"Month\",\"Cancelled\").where(col(\"Cancelled\")==1).groupBy(\"Month\").count().sort(col('count').desc()).collect()"
   ]
  },
  {
   "cell_type": "code",
   "execution_count": 32,
   "id": "f3d555ea",
   "metadata": {},
   "outputs": [
    {
     "data": {
      "text/plain": [
       "[Row(Month=12.0, count=138291),\n",
       " Row(Month=6.0, count=133275),\n",
       " Row(Month=3.0, count=127628),\n",
       " Row(Month=2.0, count=125591),\n",
       " Row(Month=1.0, count=117727),\n",
       " Row(Month=7.0, count=116394),\n",
       " Row(Month=8.0, count=97880),\n",
       " Row(Month=4.0, count=94917),\n",
       " Row(Month=5.0, count=92081),\n",
       " Row(Month=11.0, count=62012),\n",
       " Row(Month=10.0, count=55154),\n",
       " Row(Month=9.0, count=54062)]"
      ]
     },
     "execution_count": 32,
     "metadata": {},
     "output_type": "execute_result"
    }
   ],
   "source": [
    "updated_dataset.select(\"Month\",\"label\").where(col(\"label\")==1).groupBy(\"Month\").count().sort(col('count').desc()).collect()"
   ]
  },
  {
   "cell_type": "code",
   "execution_count": 6,
   "id": "0fba3c3a",
   "metadata": {},
   "outputs": [],
   "source": [
    "df_pandas = updated_dataset.toPandas()"
   ]
  },
  {
   "cell_type": "code",
   "execution_count": 7,
   "id": "fcadea46",
   "metadata": {},
   "outputs": [
    {
     "data": {
      "text/html": [
       "<div>\n",
       "<style scoped>\n",
       "    .dataframe tbody tr th:only-of-type {\n",
       "        vertical-align: middle;\n",
       "    }\n",
       "\n",
       "    .dataframe tbody tr th {\n",
       "        vertical-align: top;\n",
       "    }\n",
       "\n",
       "    .dataframe thead th {\n",
       "        text-align: right;\n",
       "    }\n",
       "</style>\n",
       "<table border=\"1\" class=\"dataframe\">\n",
       "  <thead>\n",
       "    <tr style=\"text-align: right;\">\n",
       "      <th></th>\n",
       "      <th>_c0</th>\n",
       "      <th>Year</th>\n",
       "      <th>Month</th>\n",
       "      <th>DayofMonth</th>\n",
       "      <th>DayOfWeek</th>\n",
       "      <th>DepTime</th>\n",
       "      <th>CRSDepTime</th>\n",
       "      <th>ArrTime</th>\n",
       "      <th>CRSArrTime</th>\n",
       "      <th>UniqueCarrier</th>\n",
       "      <th>...</th>\n",
       "      <th>TaxiOut</th>\n",
       "      <th>Cancelled</th>\n",
       "      <th>CancellationCode</th>\n",
       "      <th>Diverted</th>\n",
       "      <th>CarrierDelay</th>\n",
       "      <th>WeatherDelay</th>\n",
       "      <th>NASDelay</th>\n",
       "      <th>SecurityDelay</th>\n",
       "      <th>LateAircraftDelay</th>\n",
       "      <th>label</th>\n",
       "    </tr>\n",
       "  </thead>\n",
       "  <tbody>\n",
       "    <tr>\n",
       "      <th>0</th>\n",
       "      <td>2.0</td>\n",
       "      <td>2008.0</td>\n",
       "      <td>1.0</td>\n",
       "      <td>3.0</td>\n",
       "      <td>4.0</td>\n",
       "      <td>628.0</td>\n",
       "      <td>620.0</td>\n",
       "      <td>804.0</td>\n",
       "      <td>750.0</td>\n",
       "      <td>WN</td>\n",
       "      <td>...</td>\n",
       "      <td>17.0</td>\n",
       "      <td>0.0</td>\n",
       "      <td>N</td>\n",
       "      <td>0.0</td>\n",
       "      <td>NaN</td>\n",
       "      <td>NaN</td>\n",
       "      <td>NaN</td>\n",
       "      <td>NaN</td>\n",
       "      <td>NaN</td>\n",
       "      <td>0</td>\n",
       "    </tr>\n",
       "    <tr>\n",
       "      <th>1</th>\n",
       "      <td>5.0</td>\n",
       "      <td>2008.0</td>\n",
       "      <td>1.0</td>\n",
       "      <td>3.0</td>\n",
       "      <td>4.0</td>\n",
       "      <td>1940.0</td>\n",
       "      <td>1915.0</td>\n",
       "      <td>2121.0</td>\n",
       "      <td>2110.0</td>\n",
       "      <td>WN</td>\n",
       "      <td>...</td>\n",
       "      <td>10.0</td>\n",
       "      <td>0.0</td>\n",
       "      <td>N</td>\n",
       "      <td>0.0</td>\n",
       "      <td>NaN</td>\n",
       "      <td>NaN</td>\n",
       "      <td>NaN</td>\n",
       "      <td>NaN</td>\n",
       "      <td>NaN</td>\n",
       "      <td>0</td>\n",
       "    </tr>\n",
       "    <tr>\n",
       "      <th>2</th>\n",
       "      <td>10.0</td>\n",
       "      <td>2008.0</td>\n",
       "      <td>1.0</td>\n",
       "      <td>3.0</td>\n",
       "      <td>4.0</td>\n",
       "      <td>706.0</td>\n",
       "      <td>700.0</td>\n",
       "      <td>916.0</td>\n",
       "      <td>915.0</td>\n",
       "      <td>WN</td>\n",
       "      <td>...</td>\n",
       "      <td>19.0</td>\n",
       "      <td>0.0</td>\n",
       "      <td>N</td>\n",
       "      <td>0.0</td>\n",
       "      <td>NaN</td>\n",
       "      <td>NaN</td>\n",
       "      <td>NaN</td>\n",
       "      <td>NaN</td>\n",
       "      <td>NaN</td>\n",
       "      <td>0</td>\n",
       "    </tr>\n",
       "    <tr>\n",
       "      <th>3</th>\n",
       "      <td>11.0</td>\n",
       "      <td>2008.0</td>\n",
       "      <td>1.0</td>\n",
       "      <td>3.0</td>\n",
       "      <td>4.0</td>\n",
       "      <td>1644.0</td>\n",
       "      <td>1510.0</td>\n",
       "      <td>1845.0</td>\n",
       "      <td>1725.0</td>\n",
       "      <td>WN</td>\n",
       "      <td>...</td>\n",
       "      <td>8.0</td>\n",
       "      <td>0.0</td>\n",
       "      <td>N</td>\n",
       "      <td>0.0</td>\n",
       "      <td>8.0</td>\n",
       "      <td>0.0</td>\n",
       "      <td>0.0</td>\n",
       "      <td>0.0</td>\n",
       "      <td>72.0</td>\n",
       "      <td>1</td>\n",
       "    </tr>\n",
       "    <tr>\n",
       "      <th>4</th>\n",
       "      <td>17.0</td>\n",
       "      <td>2008.0</td>\n",
       "      <td>1.0</td>\n",
       "      <td>3.0</td>\n",
       "      <td>4.0</td>\n",
       "      <td>754.0</td>\n",
       "      <td>745.0</td>\n",
       "      <td>940.0</td>\n",
       "      <td>955.0</td>\n",
       "      <td>WN</td>\n",
       "      <td>...</td>\n",
       "      <td>16.0</td>\n",
       "      <td>0.0</td>\n",
       "      <td>N</td>\n",
       "      <td>0.0</td>\n",
       "      <td>NaN</td>\n",
       "      <td>NaN</td>\n",
       "      <td>NaN</td>\n",
       "      <td>NaN</td>\n",
       "      <td>NaN</td>\n",
       "      <td>0</td>\n",
       "    </tr>\n",
       "  </tbody>\n",
       "</table>\n",
       "<p>5 rows × 31 columns</p>\n",
       "</div>"
      ],
      "text/plain": [
       "    _c0    Year  Month  DayofMonth  DayOfWeek  DepTime  CRSDepTime  ArrTime  \\\n",
       "0   2.0  2008.0    1.0         3.0        4.0    628.0       620.0    804.0   \n",
       "1   5.0  2008.0    1.0         3.0        4.0   1940.0      1915.0   2121.0   \n",
       "2  10.0  2008.0    1.0         3.0        4.0    706.0       700.0    916.0   \n",
       "3  11.0  2008.0    1.0         3.0        4.0   1644.0      1510.0   1845.0   \n",
       "4  17.0  2008.0    1.0         3.0        4.0    754.0       745.0    940.0   \n",
       "\n",
       "   CRSArrTime UniqueCarrier  ...  TaxiOut Cancelled  CancellationCode  \\\n",
       "0       750.0            WN  ...     17.0       0.0                 N   \n",
       "1      2110.0            WN  ...     10.0       0.0                 N   \n",
       "2       915.0            WN  ...     19.0       0.0                 N   \n",
       "3      1725.0            WN  ...      8.0       0.0                 N   \n",
       "4       955.0            WN  ...     16.0       0.0                 N   \n",
       "\n",
       "   Diverted  CarrierDelay  WeatherDelay  NASDelay SecurityDelay  \\\n",
       "0       0.0           NaN           NaN       NaN           NaN   \n",
       "1       0.0           NaN           NaN       NaN           NaN   \n",
       "2       0.0           NaN           NaN       NaN           NaN   \n",
       "3       0.0           8.0           0.0       0.0           0.0   \n",
       "4       0.0           NaN           NaN       NaN           NaN   \n",
       "\n",
       "  LateAircraftDelay  label  \n",
       "0               NaN      0  \n",
       "1               NaN      0  \n",
       "2               NaN      0  \n",
       "3              72.0      1  \n",
       "4               NaN      0  \n",
       "\n",
       "[5 rows x 31 columns]"
      ]
     },
     "execution_count": 7,
     "metadata": {},
     "output_type": "execute_result"
    }
   ],
   "source": [
    "df_pandas.head()"
   ]
  },
  {
   "cell_type": "code",
   "execution_count": 133,
   "id": "3c0b173e",
   "metadata": {},
   "outputs": [],
   "source": [
    "df_pandas = df_pandas.fillna(0)"
   ]
  },
  {
   "cell_type": "code",
   "execution_count": 11,
   "id": "a1bf92a5",
   "metadata": {},
   "outputs": [],
   "source": [
    "import matplotlib.pyplot as plt\n",
    "import seaborn as sns"
   ]
  },
  {
   "cell_type": "code",
   "execution_count": 134,
   "id": "117073a4",
   "metadata": {},
   "outputs": [
    {
     "data": {
      "image/png": "[encoded data removed]",
      "text/plain": [
       "<Figure size 432x288 with 1 Axes>"
      ]
     },
     "metadata": {
      "needs_background": "light"
     },
     "output_type": "display_data"
    },
    {
     "data": {
      "image/png": "[encoded data removed]",
      "text/plain": [
       "<Figure size 432x288 with 1 Axes>"
      ]
     },
     "metadata": {
      "needs_background": "light"
     },
     "output_type": "display_data"
    },
    {
     "data": {
      "image/png": "[encoded data removed]",
      "text/plain": [
       "<Figure size 432x288 with 1 Axes>"
      ]
     },
     "metadata": {
      "needs_background": "light"
     },
     "output_type": "display_data"
    },
    {
     "data": {
      "image/png": "[encoded data removed]",
      "text/plain": [
       "<Figure size 432x288 with 1 Axes>"
      ]
     },
     "metadata": {
      "needs_background": "light"
     },
     "output_type": "display_data"
    },
    {
     "data": {
      "image/png": "[encoded data removed]",
      "text/plain": [
       "<Figure size 432x288 with 1 Axes>"
      ]
     },
     "metadata": {
      "needs_background": "light"
     },
     "output_type": "display_data"
    },
    {
     "data": {
      "image/png": "[encoded data removed]",
      "text/plain": [
       "<Figure size 432x288 with 1 Axes>"
      ]
     },
     "metadata": {
      "needs_background": "light"
     },
     "output_type": "display_data"
    },
    {
     "data": {
      "image/png": "[encoded data removed]",
      "text/plain": [
       "<Figure size 432x288 with 1 Axes>"
      ]
     },
     "metadata": {
      "needs_background": "light"
     },
     "output_type": "display_data"
    },
    {
     "data": {
      "image/png": "[encoded data removed]",
      "text/plain": [
       "<Figure size 432x288 with 1 Axes>"
      ]
     },
     "metadata": {
      "needs_background": "light"
     },
     "output_type": "display_data"
    },
    {
     "data": {
      "image/png": "[encoded data removed]",
      "text/plain": [
       "<Figure size 432x288 with 1 Axes>"
      ]
     },
     "metadata": {
      "needs_background": "light"
     },
     "output_type": "display_data"
    },
    {
     "data": {
      "image/png": "[encoded data removed]",
      "text/plain": [
       "<Figure size 432x288 with 1 Axes>"
      ]
     },
     "metadata": {
      "needs_background": "light"
     },
     "output_type": "display_data"
    },
    {
     "data": {
      "image/png": "[encoded data removed]",
      "text/plain": [
       "<Figure size 432x288 with 1 Axes>"
      ]
     },
     "metadata": {
      "needs_background": "light"
     },
     "output_type": "display_data"
    },
    {
     "data": {
      "image/png": "[encoded data removed]",
      "text/plain": [
       "<Figure size 432x288 with 1 Axes>"
      ]
     },
     "metadata": {
      "needs_background": "light"
     },
     "output_type": "display_data"
    },
    {
     "data": {
      "image/png": "[encoded data removed]",
      "text/plain": [
       "<Figure size 432x288 with 1 Axes>"
      ]
     },
     "metadata": {
      "needs_background": "light"
     },
     "output_type": "display_data"
    },
    {
     "data": {
      "image/png": "[encoded data removed]",
      "text/plain": [
       "<Figure size 432x288 with 1 Axes>"
      ]
     },
     "metadata": {
      "needs_background": "light"
     },
     "output_type": "display_data"
    },
    {
     "data": {
      "image/png": "[encoded data removed]",
      "text/plain": [
       "<Figure size 432x288 with 1 Axes>"
      ]
     },
     "metadata": {
      "needs_background": "light"
     },
     "output_type": "display_data"
    },
    {
     "data": {
      "image/png": "[encoded data removed]",
      "text/plain": [
       "<Figure size 432x288 with 1 Axes>"
      ]
     },
     "metadata": {
      "needs_background": "light"
     },
     "output_type": "display_data"
    },
    {
     "data": {
      "image/png": "[encoded data removed]",
      "text/plain": [
       "<Figure size 432x288 with 1 Axes>"
      ]
     },
     "metadata": {
      "needs_background": "light"
     },
     "output_type": "display_data"
    },
    {
     "data": {
      "image/png": "[encoded data removed]",
      "text/plain": [
       "<Figure size 432x288 with 1 Axes>"
      ]
     },
     "metadata": {
      "needs_background": "light"
     },
     "output_type": "display_data"
    },
    {
     "data": {
      "image/png": "[encoded data removed]",
      "text/plain": [
       "<Figure size 432x288 with 1 Axes>"
      ]
     },
     "metadata": {
      "needs_background": "light"
     },
     "output_type": "display_data"
    },
    {
     "data": {
      "image/png": "[encoded data removed]",
      "text/plain": [
       "<Figure size 432x288 with 1 Axes>"
      ]
     },
     "metadata": {
      "needs_background": "light"
     },
     "output_type": "display_data"
    },
    {
     "data": {
      "image/png": "[encoded data removed]",
      "text/plain": [
       "<Figure size 432x288 with 1 Axes>"
      ]
     },
     "metadata": {
      "needs_background": "light"
     },
     "output_type": "display_data"
    },
    {
     "data": {
      "image/png": "[encoded data removed]",
      "text/plain": [
       "<Figure size 432x288 with 1 Axes>"
      ]
     },
     "metadata": {
      "needs_background": "light"
     },
     "output_type": "display_data"
    },
    {
     "data": {
      "image/png": "[encoded data removed]",
      "text/plain": [
       "<Figure size 432x288 with 1 Axes>"
      ]
     },
     "metadata": {
      "needs_background": "light"
     },
     "output_type": "display_data"
    },
    {
     "data": {
      "image/png": "[encoded data removed]",
      "text/plain": [
       "<Figure size 432x288 with 1 Axes>"
      ]
     },
     "metadata": {
      "needs_background": "light"
     },
     "output_type": "display_data"
    },
    {
     "data": {
      "image/png": "[encoded data removed]",
      "text/plain": [
       "<Figure size 432x288 with 1 Axes>"
      ]
     },
     "metadata": {
      "needs_background": "light"
     },
     "output_type": "display_data"
    },
    {
     "data": {
      "image/png": "[encoded data removed]",
      "text/plain": [
       "<Figure size 432x288 with 1 Axes>"
      ]
     },
     "metadata": {
      "needs_background": "light"
     },
     "output_type": "display_data"
    }
   ],
   "source": [
    "for col,num in zip(df_pandas.describe().columns, range(1, len(df_pandas.columns))):\n",
    "    plt.hist(df_pandas[col])\n",
    "    plt.grid(False)\n",
    "    plt.title(col.upper())\n",
    "    plt.tight_layout()\n",
    "    plt.show()"
   ]
  },
  {
   "cell_type": "code",
   "execution_count": 135,
   "id": "bbdf0f80",
   "metadata": {},
   "outputs": [
    {
     "data": {
      "text/plain": [
       "<AxesSubplot:xlabel='Month', ylabel='Number of Cancelled flights'>"
      ]
     },
     "execution_count": 135,
     "metadata": {},
     "output_type": "execute_result"
    },
    {
     "data": {
      "image/png": "[encoded data removed]",
      "text/plain": [
       "<Figure size 432x288 with 1 Axes>"
      ]
     },
     "metadata": {
      "needs_background": "light"
     },
     "output_type": "display_data"
    }
   ],
   "source": [
    "df_pandas[[\"Cancelled\",\"Month\"]].where(df_pandas[\"Cancelled\"]==1).groupby(\"Month\").count().plot(kind='bar',legend=False, ylabel=\"Number of Cancelled flights\")"
   ]
  },
  {
   "cell_type": "code",
   "execution_count": 136,
   "id": "a7faf06c",
   "metadata": {},
   "outputs": [
    {
     "data": {
      "text/plain": [
       "<AxesSubplot:xlabel='Month', ylabel='Number of Diverted flights'>"
      ]
     },
     "execution_count": 136,
     "metadata": {},
     "output_type": "execute_result"
    },
    {
     "data": {
      "image/png": "[encoded data removed]",
      "text/plain": [
       "<Figure size 432x288 with 1 Axes>"
      ]
     },
     "metadata": {
      "needs_background": "light"
     },
     "output_type": "display_data"
    }
   ],
   "source": [
    "df_pandas[[\"Diverted\",\"Month\"]].where(df_pandas[\"Diverted\"]==1).groupby(\"Month\").count().plot(kind='bar',legend=False, ylabel=\"Number of Diverted flights\")"
   ]
  },
  {
   "cell_type": "code",
   "execution_count": 137,
   "id": "753c4ff0",
   "metadata": {},
   "outputs": [
    {
     "data": {
      "text/plain": [
       "<AxesSubplot:xlabel='Month', ylabel='Number of highly delayed flights'>"
      ]
     },
     "execution_count": 137,
     "metadata": {},
     "output_type": "execute_result"
    },
    {
     "data": {
      "image/png": "[encoded data removed]",
      "text/plain": [
       "<Figure size 432x288 with 1 Axes>"
      ]
     },
     "metadata": {
      "needs_background": "light"
     },
     "output_type": "display_data"
    }
   ],
   "source": [
    "df_pandas[[\"label\",\"Month\"]].where(df_pandas[\"label\"]==1).groupby(\"Month\").count().plot(kind='bar',legend=False, ylabel=\"Number of highly delayed flights\")"
   ]
  },
  {
   "cell_type": "code",
   "execution_count": 138,
   "id": "c9b2f827",
   "metadata": {},
   "outputs": [
    {
     "data": {
      "text/plain": [
       "<AxesSubplot:xlabel='0 -Not cancelled 1-Cancelled', ylabel='Frequency'>"
      ]
     },
     "execution_count": 138,
     "metadata": {},
     "output_type": "execute_result"
    },
    {
     "data": {
      "image/png": "[encoded data removed]",
      "text/plain": [
       "<Figure size 432x288 with 1 Axes>"
      ]
     },
     "metadata": {
      "needs_background": "light"
     },
     "output_type": "display_data"
    }
   ],
   "source": [
    "df_pandas[\"Cancelled\"].value_counts().plot(kind=\"bar\", xlabel=\"0 -Not cancelled 1-Cancelled\", ylabel=\"Frequency\")"
   ]
  },
  {
   "cell_type": "code",
   "execution_count": 139,
   "id": "80755f3b",
   "metadata": {},
   "outputs": [
    {
     "data": {
      "text/plain": [
       "<AxesSubplot:xlabel='CancellationCode', ylabel='Frequency'>"
      ]
     },
     "execution_count": 139,
     "metadata": {},
     "output_type": "execute_result"
    },
    {
     "data": {
      "image/png": "[encoded data removed]",
      "text/plain": [
       "<Figure size 432x288 with 1 Axes>"
      ]
     },
     "metadata": {
      "needs_background": "light"
     },
     "output_type": "display_data"
    }
   ],
   "source": [
    "df_pandas[[\"CancellationCode\", \"Cancelled\"]].where(df_pandas[\"Cancelled\"]==1).groupby(\"CancellationCode\").count().plot(kind=\"bar\", legend=False, ylabel=\"Frequency\")"
   ]
  },
  {
   "cell_type": "code",
   "execution_count": 140,
   "id": "dc690dbd",
   "metadata": {},
   "outputs": [
    {
     "data": {
      "text/plain": [
       "<AxesSubplot:xlabel='0 -Not diverted 1-diverted', ylabel='Frequency'>"
      ]
     },
     "execution_count": 140,
     "metadata": {},
     "output_type": "execute_result"
    },
    {
     "data": {
      "image/png": "[encoded data removed]",
      "text/plain": [
       "<Figure size 432x288 with 1 Axes>"
      ]
     },
     "metadata": {
      "needs_background": "light"
     },
     "output_type": "display_data"
    }
   ],
   "source": [
    "df_pandas[\"Diverted\"].value_counts().plot(kind=\"bar\", xlabel=\"0 -Not diverted 1-diverted\", ylabel=\"Frequency\")"
   ]
  },
  {
   "cell_type": "code",
   "execution_count": 141,
   "id": "4554e765",
   "metadata": {},
   "outputs": [
    {
     "data": {
      "text/plain": [
       "<AxesSubplot:xlabel='0-Slightly delayed 1-highly delayed 2-cancelled 3-diverted', ylabel='Frequency'>"
      ]
     },
     "execution_count": 141,
     "metadata": {},
     "output_type": "execute_result"
    },
    {
     "data": {
      "image/png": "[encoded data removed]",
      "text/plain": [
       "<Figure size 432x288 with 1 Axes>"
      ]
     },
     "metadata": {
      "needs_background": "light"
     },
     "output_type": "display_data"
    }
   ],
   "source": [
    "df_pandas[\"label\"].value_counts().plot(kind=\"bar\", xlabel=\"0-Slightly delayed 1-highly delayed 2-cancelled 3-diverted\", ylabel=\"Frequency\")"
   ]
  },
  {
   "cell_type": "code",
   "execution_count": 142,
   "id": "4bf1b55f",
   "metadata": {},
   "outputs": [
    {
     "data": {
      "text/plain": [
       "<AxesSubplot:xlabel='UniqueCarrier', ylabel='Number of highly delyaed flights'>"
      ]
     },
     "execution_count": 142,
     "metadata": {},
     "output_type": "execute_result"
    },
    {
     "data": {
      "image/png": "[encoded data removed]",
      "text/plain": [
       "<Figure size 432x288 with 1 Axes>"
      ]
     },
     "metadata": {
      "needs_background": "light"
     },
     "output_type": "display_data"
    }
   ],
   "source": [
    "df_pandas[[\"label\",\"UniqueCarrier\"]].where(df_pandas[\"label\"]==1).groupby(\"UniqueCarrier\").count().plot(kind='bar', legend=False, ylabel='Number of highly delyaed flights')"
   ]
  },
  {
   "cell_type": "code",
   "execution_count": 143,
   "id": "260c85bb",
   "metadata": {},
   "outputs": [
    {
     "data": {
      "text/plain": [
       "<AxesSubplot:xlabel='UniqueCarrier', ylabel='Number of Cancelled flights'>"
      ]
     },
     "execution_count": 143,
     "metadata": {},
     "output_type": "execute_result"
    },
    {
     "data": {
      "image/png": "[encoded data removed]",
      "text/plain": [
       "<Figure size 432x288 with 1 Axes>"
      ]
     },
     "metadata": {
      "needs_background": "light"
     },
     "output_type": "display_data"
    }
   ],
   "source": [
    "df_pandas[[\"label\",\"UniqueCarrier\"]].where(df_pandas[\"label\"]==2).groupby(\"UniqueCarrier\").count().plot(kind='bar', legend=False, ylabel='Number of Cancelled flights')"
   ]
  },
  {
   "cell_type": "code",
   "execution_count": 144,
   "id": "fb0b3f5f",
   "metadata": {},
   "outputs": [
    {
     "data": {
      "text/plain": [
       "<AxesSubplot:xlabel='UniqueCarrier', ylabel='Number of diverted flights'>"
      ]
     },
     "execution_count": 144,
     "metadata": {},
     "output_type": "execute_result"
    },
    {
     "data": {
      "image/png": "[encoded data removed]",
      "text/plain": [
       "<Figure size 432x288 with 1 Axes>"
      ]
     },
     "metadata": {
      "needs_background": "light"
     },
     "output_type": "display_data"
    }
   ],
   "source": [
    "df_pandas[[\"label\",\"UniqueCarrier\"]].where(df_pandas[\"label\"]==3).groupby(\"UniqueCarrier\").count().plot(kind='bar', legend=False, ylabel='Number of diverted flights')"
   ]
  },
  {
   "cell_type": "code",
   "execution_count": 145,
   "id": "940c9f8c",
   "metadata": {},
   "outputs": [
    {
     "data": {
      "text/plain": [
       "<AxesSubplot:xlabel='UniqueCarrier', ylabel='Average delay in highly delayed flights'>"
      ]
     },
     "execution_count": 145,
     "metadata": {},
     "output_type": "execute_result"
    },
    {
     "data": {
      "image/png": "[encoded data removed]",
      "text/plain": [
       "<Figure size 432x288 with 1 Axes>"
      ]
     },
     "metadata": {
      "needs_background": "light"
     },
     "output_type": "display_data"
    }
   ],
   "source": [
    "df_pandas[[\"ArrDelay\",\"UniqueCarrier\"]].where(df_pandas[\"label\"]==1).groupby(\"UniqueCarrier\").mean().plot(kind='bar', legend=False, ylabel='Average delay in highly delayed flights')"
   ]
  },
  {
   "cell_type": "code",
   "execution_count": 146,
   "id": "f7227200",
   "metadata": {},
   "outputs": [
    {
     "data": {
      "text/plain": [
       "<AxesSubplot:xlabel='Origin', ylabel='Average delay'>"
      ]
     },
     "execution_count": 146,
     "metadata": {},
     "output_type": "execute_result"
    },
    {
     "data": {
      "image/png": "[encoded data removed]",
      "text/plain": [
       "<Figure size 432x288 with 1 Axes>"
      ]
     },
     "metadata": {
      "needs_background": "light"
     },
     "output_type": "display_data"
    }
   ],
   "source": [
    "df_pandas[[\"ArrDelay\",\"Origin\"]].where(df_pandas[\"label\"]==1).groupby(\"Origin\").mean()[:10].plot(kind='bar', legend=False, ylabel='Average delay')"
   ]
  },
  {
   "cell_type": "code",
   "execution_count": 147,
   "id": "21e1f581",
   "metadata": {},
   "outputs": [
    {
     "data": {
      "text/plain": [
       "<AxesSubplot:xlabel='Dest', ylabel='Average delay'>"
      ]
     },
     "execution_count": 147,
     "metadata": {},
     "output_type": "execute_result"
    },
    {
     "data": {
      "image/png": "[encoded data removed]",
      "text/plain": [
       "<Figure size 432x288 with 1 Axes>"
      ]
     },
     "metadata": {
      "needs_background": "light"
     },
     "output_type": "display_data"
    }
   ],
   "source": [
    "df_pandas[[\"ArrDelay\",\"Dest\"]].where(df_pandas[\"label\"]==1).groupby(\"Dest\").mean()[:10].plot(kind='bar', legend=False, ylabel='Average delay')"
   ]
  },
  {
   "cell_type": "code",
   "execution_count": 148,
   "id": "1dbed110",
   "metadata": {},
   "outputs": [
    {
     "data": {
      "text/plain": [
       "<AxesSubplot:xlabel='DayOfWeek', ylabel='Number of flights diverted'>"
      ]
     },
     "execution_count": 148,
     "metadata": {},
     "output_type": "execute_result"
    },
    {
     "data": {
      "image/png": "[encoded data removed]",
      "text/plain": [
       "<Figure size 432x288 with 1 Axes>"
      ]
     },
     "metadata": {
      "needs_background": "light"
     },
     "output_type": "display_data"
    }
   ],
   "source": [
    "df_pandas[[\"DayOfWeek\",\"Diverted\"]].where(df_pandas[\"Diverted\"]==1).groupby(\"DayOfWeek\").count().plot(kind='bar', legend=False, ylabel='Number of flights diverted')"
   ]
  },
  {
   "cell_type": "code",
   "execution_count": 149,
   "id": "d6de6e49",
   "metadata": {},
   "outputs": [
    {
     "data": {
      "text/plain": [
       "<AxesSubplot:xlabel='DayOfWeek', ylabel='Number of flights cancelled'>"
      ]
     },
     "execution_count": 149,
     "metadata": {},
     "output_type": "execute_result"
    },
    {
     "data": {
      "image/png": "[encoded data removed]",
      "text/plain": [
       "<Figure size 432x288 with 1 Axes>"
      ]
     },
     "metadata": {
      "needs_background": "light"
     },
     "output_type": "display_data"
    }
   ],
   "source": [
    "df_pandas[[\"DayOfWeek\",\"Cancelled\"]].where(df_pandas[\"Cancelled\"]==1).groupby(\"DayOfWeek\").count().plot(kind='bar', legend=False, ylabel='Number of flights cancelled')"
   ]
  },
  {
   "cell_type": "code",
   "execution_count": 150,
   "id": "afd84128",
   "metadata": {},
   "outputs": [
    {
     "data": {
      "text/plain": [
       "<AxesSubplot:xlabel='DayOfWeek', ylabel='Number of highly delayed flights'>"
      ]
     },
     "execution_count": 150,
     "metadata": {},
     "output_type": "execute_result"
    },
    {
     "data": {
      "image/png": "[encoded data removed]",
      "text/plain": [
       "<Figure size 432x288 with 1 Axes>"
      ]
     },
     "metadata": {
      "needs_background": "light"
     },
     "output_type": "display_data"
    }
   ],
   "source": [
    "df_pandas[[\"DayOfWeek\",\"label\"]].where(df_pandas[\"label\"]==1).groupby(\"DayOfWeek\").count().plot(kind='bar', legend=False, ylabel='Number of highly delayed flights')"
   ]
  },
  {
   "cell_type": "code",
   "execution_count": 177,
   "id": "a2199641",
   "metadata": {},
   "outputs": [
    {
     "data": {
      "text/plain": [
       "<matplotlib.legend.Legend at 0x1b7e044b310>"
      ]
     },
     "execution_count": 177,
     "metadata": {},
     "output_type": "execute_result"
    },
    {
     "data": {
      "image/png": "[encoded data removed]",
      "text/plain": [
       "<Figure size 1080x720 with 1 Axes>"
      ]
     },
     "metadata": {
      "needs_background": "light"
     },
     "output_type": "display_data"
    }
   ],
   "source": [
    "fig, ax = plt.subplots(figsize = (15,10))\n",
    "ax.hist([df_pandas[\"CRSDepTime\"], df_pandas[\"CRSDepTime\"].where(df_pandas[\"label\"]==1),df_pandas[\"CRSDepTime\"].where(df_pandas[\"Cancelled\"]==1), df_pandas[\"CRSDepTime\"].where(df_pandas[\"Diverted\"]==1)], bins = 10, label = [\"all flights\",\"highly delayed\", \"cancelled\", \"diverted\"])\n",
    "plt.legend()"
   ]
  },
  {
   "cell_type": "code",
   "execution_count": 178,
   "id": "38e95bd6",
   "metadata": {},
   "outputs": [
    {
     "data": {
      "text/plain": [
       "<matplotlib.legend.Legend at 0x1b7e0606820>"
      ]
     },
     "execution_count": 178,
     "metadata": {},
     "output_type": "execute_result"
    },
    {
     "data": {
      "image/png": "[encoded data removed]",
      "text/plain": [
       "<Figure size 1080x720 with 1 Axes>"
      ]
     },
     "metadata": {
      "needs_background": "light"
     },
     "output_type": "display_data"
    }
   ],
   "source": [
    "fig, ax = plt.subplots(figsize = (15,10))\n",
    "ax.hist([df_pandas[\"Month\"], df_pandas[\"Month\"].where(df_pandas[\"label\"]==1),df_pandas[\"Month\"].where(df_pandas[\"Cancelled\"]==1), df_pandas[\"Month\"].where(df_pandas[\"Diverted\"]==1)], bins = 10, label = [\"all flights\",\"highly delayed\", \"cancelled\", \"diverted\"])\n",
    "plt.legend()"
   ]
  },
  {
   "cell_type": "code",
   "execution_count": 179,
   "id": "a8bd9017",
   "metadata": {},
   "outputs": [
    {
     "data": {
      "text/plain": [
       "<matplotlib.legend.Legend at 0x1b7e0815760>"
      ]
     },
     "execution_count": 179,
     "metadata": {},
     "output_type": "execute_result"
    },
    {
     "data": {
      "image/png": "[encoded data removed]",
      "text/plain": [
       "<Figure size 1080x720 with 1 Axes>"
      ]
     },
     "metadata": {
      "needs_background": "light"
     },
     "output_type": "display_data"
    }
   ],
   "source": [
    "fig, ax = plt.subplots(figsize = (15,10))\n",
    "ax.hist([df_pandas[\"Distance\"], df_pandas[\"Distance\"].where(df_pandas[\"label\"]==1),df_pandas[\"Distance\"].where(df_pandas[\"Cancelled\"]==1), df_pandas[\"Distance\"].where(df_pandas[\"Diverted\"]==1)], bins = 10, label = [\"all flights\",\"highly delayed\", \"cancelled\", \"diverted\"])\n",
    "plt.legend()"
   ]
  },
  {
   "cell_type": "code",
   "execution_count": 180,
   "id": "7c2cd51e",
   "metadata": {},
   "outputs": [],
   "source": [
    "df_pandas['total_delay'] = (df_pandas['CarrierDelay'] + df_pandas['WeatherDelay'] + df_pandas['NASDelay'] + df_pandas['SecurityDelay'] + df_pandas['LateAircraftDelay'])"
   ]
  },
  {
   "cell_type": "code",
   "execution_count": 181,
   "id": "c8c4f130",
   "metadata": {},
   "outputs": [
    {
     "data": {
      "image/png": "[encoded data removed]",
      "text/plain": [
       "<Figure size 1080x720 with 1 Axes>"
      ]
     },
     "metadata": {
      "needs_background": "light"
     },
     "output_type": "display_data"
    }
   ],
   "source": [
    "carrier_group = df_pandas['CarrierDelay'].groupby(df_pandas['UniqueCarrier']).mean()\n",
    "weather_group = df_pandas['WeatherDelay'].groupby(df_pandas['UniqueCarrier']).mean()\n",
    "nas_group = df_pandas['NASDelay'].groupby(df_pandas['UniqueCarrier']).mean()\n",
    "security_group = df_pandas['SecurityDelay'].groupby(df_pandas['UniqueCarrier']).mean()\n",
    "late_group = df_pandas['LateAircraftDelay'].groupby(df_pandas['UniqueCarrier']).mean()\n",
    "\n",
    "w_bottom = carrier_group.values\n",
    "n_bottom = w_bottom + weather_group.values\n",
    "s_bottom = n_bottom + nas_group.values\n",
    "l_bottom = s_bottom + security_group.values\n",
    "\n",
    "x = carrier_group.index.values\n",
    "\n",
    "fig, ax = plt.subplots(figsize = (15,10))\n",
    "\n",
    "ax.set_xticks(np.arange(len(x)))\n",
    "ax.bar(np.arange(len(x)),carrier_group.values, label='Carrier Delay')\n",
    "ax.bar(np.arange(len(x)),weather_group.values, bottom=w_bottom, label='Weather Delay')\n",
    "ax.bar(np.arange(len(x)),nas_group.values, bottom=n_bottom, label='NAS Delay')\n",
    "ax.bar(np.arange(len(x)),security_group.values, bottom=s_bottom, label='Security Delay')\n",
    "ax.bar(np.arange(len(x)),late_group.values, bottom=l_bottom, label='Late Aircraft Delay')\n",
    "\n",
    "ax.set_xlabel('Aircraft Carrier Code')\n",
    "ax.set_ylabel('Departure Delay in minutes')\n",
    "\n",
    "plt.legend()\n",
    "plt.show()"
   ]
  },
  {
   "cell_type": "code",
   "execution_count": 182,
   "id": "63464eb6",
   "metadata": {},
   "outputs": [
    {
     "data": {
      "image/png": "[encoded data removed]",
      "text/plain": [
       "<Figure size 1080x720 with 1 Axes>"
      ]
     },
     "metadata": {
      "needs_background": "light"
     },
     "output_type": "display_data"
    }
   ],
   "source": [
    "cancelled_group = df_pandas[df_pandas[\"Cancelled\"]==1].groupby(['UniqueCarrier','CancellationCode']).size().reindex(fill_value=0.0).unstack()\n",
    "cg = cancelled_group.fillna(0)\n",
    "\n",
    "b_bottom = cg.loc[:,'A'].values\n",
    "c_bottom = b_bottom + cg.loc[:,'B'].values\n",
    "d_bottom = c_bottom + cg.loc[:,'B'].values\n",
    "\n",
    "x = cg.loc[:,'A'].index.values\n",
    "\n",
    "fig, ax = plt.subplots(figsize = (15,10))\n",
    "\n",
    "ax.set_xticks(np.arange(len(x)))\n",
    "ax.bar(np.arange(len(x)),cg.loc[:,'A'].values, align='center', label='Carrier')\n",
    "ax.bar(np.arange(len(x)),cg.loc[:,'B'].values, align='center', bottom=b_bottom, label='Weather')\n",
    "ax.bar(np.arange(len(x)),cg.loc[:,'C'].values, align='center', bottom=c_bottom, label='NAS')\n",
    "\n",
    "ax.set_xlabel('Aircraft Carrier Code')\n",
    "ax.set_ylabel('Number of Cancellations')\n",
    "\n",
    "plt.legend()\n",
    "plt.show()"
   ]
  },
  {
   "cell_type": "code",
   "execution_count": 104,
   "id": "308fdb48",
   "metadata": {},
   "outputs": [],
   "source": [
    "import seaborn as sns\n",
    "numeric_columns_for_heatmap = []\n",
    "for col in df_pandas.columns:\n",
    "    if df_pandas[col].dtype != \"object\":\n",
    "        numeric_columns_for_heatmap.append(col)"
   ]
  },
  {
   "cell_type": "code",
   "execution_count": 103,
   "id": "550cb01d",
   "metadata": {},
   "outputs": [
    {
     "data": {
      "text/plain": [
       "<AxesSubplot:>"
      ]
     },
     "execution_count": 103,
     "metadata": {},
     "output_type": "execute_result"
    },
    {
     "data": {
      "image/png": "[encoded data removed]",
      "text/plain": [
       "<Figure size 1440x1440 with 2 Axes>"
      ]
     },
     "metadata": {
      "needs_background": "light"
     },
     "output_type": "display_data"
    }
   ],
   "source": [
    "fig, ax = plt.subplots(figsize=(20,20))     \n",
    "sns.heatmap(df_pandas[numeric_columns_for_heatmap].corr(), cmap = 'coolwarm', linewidths = 0.5, linecolor = 'black', ax=ax)"
   ]
  },
  {
   "cell_type": "code",
   "execution_count": null,
   "id": "7ab6122a",
   "metadata": {},
   "outputs": [],
   "source": [
    "#Scaling\n",
    "#Removing unwanted columns \n",
    "#Splitting the dataset \n",
    "#Machine Learning algorithm"
   ]
  }
 ],
 "metadata": {
  "kernelspec": {
   "display_name": "Python 3 (ipykernel)",
   "language": "python",
   "name": "python3"
  },
  "language_info": {
   "codemirror_mode": {
    "name": "ipython",
    "version": 3
   },
   "file_extension": ".py",
   "mimetype": "text/x-python",
   "name": "python",
   "nbconvert_exporter": "python",
   "pygments_lexer": "ipython3",
   "version": "3.8.11"
  }
 },
 "nbformat": 4,
 "nbformat_minor": 5
}
